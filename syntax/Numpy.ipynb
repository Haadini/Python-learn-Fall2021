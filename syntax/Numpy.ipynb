{
 "cells": [
  {
   "cell_type": "markdown",
   "id": "fb79e4bc",
   "metadata": {},
   "source": [
    "# Numpy"
   ]
  },
  {
   "cell_type": "code",
   "execution_count": 2,
   "id": "e99371ff",
   "metadata": {},
   "outputs": [
    {
     "data": {
      "text/plain": [
       "array([1, 2, 3])"
      ]
     },
     "execution_count": 2,
     "metadata": {},
     "output_type": "execute_result"
    }
   ],
   "source": [
    "import numpy as np\n",
    "a=np.array([1, 2, 3])\n",
    "a"
   ]
  },
  {
   "cell_type": "markdown",
   "id": "df508115",
   "metadata": {},
   "source": [
    "**shape**\n",
    "شکل مربوط به آرایه"
   ]
  },
  {
   "cell_type": "code",
   "execution_count": 3,
   "id": "89804e12",
   "metadata": {},
   "outputs": [
    {
     "data": {
      "text/plain": [
       "(3,)"
      ]
     },
     "execution_count": 3,
     "metadata": {},
     "output_type": "execute_result"
    }
   ],
   "source": [
    "a.shape"
   ]
  },
  {
   "cell_type": "markdown",
   "id": "b0507e38",
   "metadata": {},
   "source": [
    "**ndim**\n",
    "بعد آرایه"
   ]
  },
  {
   "cell_type": "code",
   "execution_count": 4,
   "id": "2000e8e5",
   "metadata": {},
   "outputs": [
    {
     "data": {
      "text/plain": [
       "1"
      ]
     },
     "execution_count": 4,
     "metadata": {},
     "output_type": "execute_result"
    }
   ],
   "source": [
    "a.ndim"
   ]
  },
  {
   "cell_type": "markdown",
   "id": "9eed3c3c",
   "metadata": {},
   "source": [
    "**dtype** نوع داده های آرایه"
   ]
  },
  {
   "cell_type": "code",
   "execution_count": 5,
   "id": "55cd2d98",
   "metadata": {
    "scrolled": true
   },
   "outputs": [
    {
     "data": {
      "text/plain": [
       "dtype('int32')"
      ]
     },
     "execution_count": 5,
     "metadata": {},
     "output_type": "execute_result"
    }
   ],
   "source": [
    "a.dtype"
   ]
  },
  {
   "cell_type": "markdown",
   "id": "2b14102e",
   "metadata": {},
   "source": [
    "**size**\n",
    "تعداد عناصر "
   ]
  },
  {
   "cell_type": "code",
   "execution_count": 6,
   "id": "888905d9",
   "metadata": {},
   "outputs": [
    {
     "data": {
      "text/plain": [
       "3"
      ]
     },
     "execution_count": 6,
     "metadata": {},
     "output_type": "execute_result"
    }
   ],
   "source": [
    "a.size"
   ]
  },
  {
   "cell_type": "code",
   "execution_count": 7,
   "id": "6ff97e25",
   "metadata": {},
   "outputs": [
    {
     "data": {
      "text/plain": [
       "array([[1, 2, 3],\n",
       "       [4, 5, 6]])"
      ]
     },
     "execution_count": 7,
     "metadata": {},
     "output_type": "execute_result"
    }
   ],
   "source": [
    "b=np.array([[1, 2, 3],[4, 5, 6]])\n",
    "b"
   ]
  },
  {
   "cell_type": "code",
   "execution_count": 8,
   "id": "f54571dd",
   "metadata": {},
   "outputs": [
    {
     "data": {
      "text/plain": [
       "(2, 3)"
      ]
     },
     "execution_count": 8,
     "metadata": {},
     "output_type": "execute_result"
    }
   ],
   "source": [
    "b.shape\n"
   ]
  },
  {
   "cell_type": "code",
   "execution_count": 9,
   "id": "80f0b69f",
   "metadata": {},
   "outputs": [
    {
     "data": {
      "text/plain": [
       "2"
      ]
     },
     "execution_count": 9,
     "metadata": {},
     "output_type": "execute_result"
    }
   ],
   "source": [
    "b.ndim"
   ]
  },
  {
   "cell_type": "code",
   "execution_count": 10,
   "id": "44c2cce3",
   "metadata": {},
   "outputs": [
    {
     "data": {
      "text/plain": [
       "dtype('int32')"
      ]
     },
     "execution_count": 10,
     "metadata": {},
     "output_type": "execute_result"
    }
   ],
   "source": [
    "b.dtype"
   ]
  },
  {
   "cell_type": "code",
   "execution_count": 11,
   "id": "79fc296d",
   "metadata": {},
   "outputs": [
    {
     "data": {
      "text/plain": [
       "6"
      ]
     },
     "execution_count": 11,
     "metadata": {},
     "output_type": "execute_result"
    }
   ],
   "source": [
    "b.size"
   ]
  },
  {
   "cell_type": "code",
   "execution_count": 21,
   "id": "af2ee87d",
   "metadata": {},
   "outputs": [],
   "source": [
    "c=np.array([[1, 2.6, 3],[4, 5j, 6]])"
   ]
  },
  {
   "cell_type": "code",
   "execution_count": 22,
   "id": "55e30195",
   "metadata": {},
   "outputs": [
    {
     "data": {
      "text/plain": [
       "(2, 3)"
      ]
     },
     "execution_count": 22,
     "metadata": {},
     "output_type": "execute_result"
    }
   ],
   "source": [
    "c.shape"
   ]
  },
  {
   "cell_type": "code",
   "execution_count": 23,
   "id": "9a7dc4e1",
   "metadata": {},
   "outputs": [
    {
     "data": {
      "text/plain": [
       "dtype('complex128')"
      ]
     },
     "execution_count": 23,
     "metadata": {},
     "output_type": "execute_result"
    }
   ],
   "source": [
    "c.dtype"
   ]
  },
  {
   "cell_type": "code",
   "execution_count": 24,
   "id": "35910ed1",
   "metadata": {},
   "outputs": [
    {
     "data": {
      "text/plain": [
       "array([[1. +0.j, 2.6+0.j, 3. +0.j],\n",
       "       [4. +0.j, 0. +5.j, 6. +0.j]])"
      ]
     },
     "execution_count": 24,
     "metadata": {},
     "output_type": "execute_result"
    }
   ],
   "source": [
    "c"
   ]
  },
  {
   "cell_type": "markdown",
   "id": "d43aa12f",
   "metadata": {},
   "source": [
    "**Arange** چیزی شبیه رنج در پایتون"
   ]
  },
  {
   "cell_type": "code",
   "execution_count": 26,
   "id": "563310b6",
   "metadata": {},
   "outputs": [
    {
     "data": {
      "text/plain": [
       "array([ 1,  2,  3,  4,  5,  6,  7,  8,  9, 10, 11, 12, 13, 14, 15, 16, 17,\n",
       "       18, 19])"
      ]
     },
     "execution_count": 26,
     "metadata": {},
     "output_type": "execute_result"
    }
   ],
   "source": [
    "d = np.arange(1,20)\n",
    "d"
   ]
  },
  {
   "cell_type": "code",
   "execution_count": 27,
   "id": "f34dcbaf",
   "metadata": {},
   "outputs": [
    {
     "data": {
      "text/plain": [
       "19"
      ]
     },
     "execution_count": 27,
     "metadata": {},
     "output_type": "execute_result"
    }
   ],
   "source": [
    "d.size"
   ]
  },
  {
   "cell_type": "code",
   "execution_count": 28,
   "id": "db4de51b",
   "metadata": {},
   "outputs": [
    {
     "data": {
      "text/plain": [
       "19"
      ]
     },
     "execution_count": 28,
     "metadata": {},
     "output_type": "execute_result"
    }
   ],
   "source": [
    "d[-1]"
   ]
  },
  {
   "cell_type": "code",
   "execution_count": 29,
   "id": "4b2c1ff0",
   "metadata": {},
   "outputs": [
    {
     "data": {
      "text/plain": [
       "2"
      ]
     },
     "execution_count": 29,
     "metadata": {},
     "output_type": "execute_result"
    }
   ],
   "source": [
    "d[1]"
   ]
  },
  {
   "cell_type": "code",
   "execution_count": null,
   "id": "d0d4538d",
   "metadata": {},
   "outputs": [],
   "source": []
  },
  {
   "cell_type": "markdown",
   "id": "ea262588",
   "metadata": {},
   "source": [
    "**linspace** در رنجی مشخص اعدادی با فاصلله برابر را بر میگرداند ---->retstep=true"
   ]
  },
  {
   "cell_type": "code",
   "execution_count": 39,
   "id": "e726eeb6",
   "metadata": {},
   "outputs": [
    {
     "data": {
      "text/plain": [
       "(array([ 1.  ,  3.25,  5.5 ,  7.75, 10.  , 12.25, 14.5 , 16.75, 19.  ]), 2.25)"
      ]
     },
     "execution_count": 39,
     "metadata": {},
     "output_type": "execute_result"
    }
   ],
   "source": [
    "e = np.linspace(1,19,num=9, retstep=True)\n",
    "e"
   ]
  },
  {
   "cell_type": "code",
   "execution_count": 41,
   "id": "d4fb12bb",
   "metadata": {},
   "outputs": [
    {
     "data": {
      "text/plain": [
       "dtype('int32')"
      ]
     },
     "execution_count": 41,
     "metadata": {},
     "output_type": "execute_result"
    }
   ],
   "source": [
    "d.dtype"
   ]
  },
  {
   "cell_type": "markdown",
   "id": "926f9b4f",
   "metadata": {},
   "source": [
    "**ones**"
   ]
  },
  {
   "cell_type": "code",
   "execution_count": 46,
   "id": "c602116b",
   "metadata": {},
   "outputs": [
    {
     "data": {
      "text/plain": [
       "array([[1., 1., 1., 1., 1.],\n",
       "       [1., 1., 1., 1., 1.]])"
      ]
     },
     "execution_count": 46,
     "metadata": {},
     "output_type": "execute_result"
    }
   ],
   "source": [
    "f=np.ones((2,5))\n",
    "f"
   ]
  },
  {
   "cell_type": "markdown",
   "id": "e0444e6b",
   "metadata": {},
   "source": [
    "**zeros**"
   ]
  },
  {
   "cell_type": "code",
   "execution_count": 45,
   "id": "48f06fd4",
   "metadata": {},
   "outputs": [
    {
     "data": {
      "text/plain": [
       "array([[0, 0, 0, 0, 0],\n",
       "       [0, 0, 0, 0, 0]])"
      ]
     },
     "execution_count": 45,
     "metadata": {},
     "output_type": "execute_result"
    }
   ],
   "source": [
    "g=np.zeros((2,5),dtype=int)\n",
    "g"
   ]
  },
  {
   "cell_type": "markdown",
   "id": "9246df94",
   "metadata": {},
   "source": [
    "**Random**"
   ]
  },
  {
   "cell_type": "code",
   "execution_count": 56,
   "id": "05fe64de",
   "metadata": {},
   "outputs": [
    {
     "data": {
      "text/plain": [
       "array([ 2, 13,  8, 46,  7, 26, 21, 38, 19, 21])"
      ]
     },
     "execution_count": 56,
     "metadata": {},
     "output_type": "execute_result"
    }
   ],
   "source": [
    "h=np.random.randint(1, 48, size=10)\n",
    "h"
   ]
  },
  {
   "cell_type": "markdown",
   "id": "4197c5bd",
   "metadata": {},
   "source": [
    "**seed**"
   ]
  },
  {
   "cell_type": "code",
   "execution_count": 55,
   "id": "d7483688",
   "metadata": {},
   "outputs": [
    {
     "data": {
      "text/plain": [
       "array([38, 44, 13,  9, 10, 12,  6, 16,  1, 17])"
      ]
     },
     "execution_count": 55,
     "metadata": {},
     "output_type": "execute_result"
    }
   ],
   "source": [
    "np.random.seed(1)\n",
    "p=np.random.randint(1, 48, size=10)\n",
    "p"
   ]
  },
  {
   "cell_type": "code",
   "execution_count": 74,
   "id": "c8002e9c",
   "metadata": {},
   "outputs": [
    {
     "data": {
      "text/plain": [
       "array([[ 1,  2,  3,  4],\n",
       "       [ 5,  6,  7,  8],\n",
       "       [ 9, 10, 11, 12],\n",
       "       [13, 14, 15, 16],\n",
       "       [17, 18, 19, 20],\n",
       "       [21, 22, 23, 24]])"
      ]
     },
     "execution_count": 74,
     "metadata": {},
     "output_type": "execute_result"
    }
   ],
   "source": [
    "k = np.arange(1,25)\n",
    "k.shape=(6,4)\n",
    "k"
   ]
  },
  {
   "cell_type": "code",
   "execution_count": 76,
   "id": "dcd86f8c",
   "metadata": {},
   "outputs": [
    {
     "data": {
      "text/plain": [
       "array([21, 22, 23, 24])"
      ]
     },
     "execution_count": 76,
     "metadata": {},
     "output_type": "execute_result"
    }
   ],
   "source": [
    "k[-1]"
   ]
  },
  {
   "cell_type": "code",
   "execution_count": 79,
   "id": "97409d01",
   "metadata": {},
   "outputs": [
    {
     "data": {
      "text/plain": [
       "21"
      ]
     },
     "execution_count": 79,
     "metadata": {},
     "output_type": "execute_result"
    }
   ],
   "source": [
    "k[-1,-4]"
   ]
  },
  {
   "cell_type": "code",
   "execution_count": 80,
   "id": "57e8395a",
   "metadata": {},
   "outputs": [
    {
     "data": {
      "text/plain": [
       "array([[ 1,  2],\n",
       "       [ 5,  6],\n",
       "       [ 9, 10],\n",
       "       [13, 14],\n",
       "       [17, 18],\n",
       "       [21, 22]])"
      ]
     },
     "execution_count": 80,
     "metadata": {},
     "output_type": "execute_result"
    }
   ],
   "source": [
    "k[:,:2]"
   ]
  },
  {
   "cell_type": "code",
   "execution_count": 94,
   "id": "ab81c428",
   "metadata": {},
   "outputs": [
    {
     "data": {
      "text/plain": [
       "array([[[1, 8, 8, 2],\n",
       "        [2, 6, 4, 1],\n",
       "        [1, 6, 6, 7]],\n",
       "\n",
       "       [[5, 6, 7, 3],\n",
       "        [5, 4, 6, 4],\n",
       "        [8, 6, 1, 4]]])"
      ]
     },
     "execution_count": 94,
     "metadata": {},
     "output_type": "execute_result"
    }
   ],
   "source": [
    "o=np.random.randint(1, 9, size=(2, 3, 4))\n",
    "o"
   ]
  },
  {
   "cell_type": "code",
   "execution_count": 95,
   "id": "e2b50a63",
   "metadata": {},
   "outputs": [
    {
     "data": {
      "text/plain": [
       "1"
      ]
     },
     "execution_count": 95,
     "metadata": {},
     "output_type": "execute_result"
    }
   ],
   "source": [
    "o[0][0][0]"
   ]
  },
  {
   "cell_type": "code",
   "execution_count": 98,
   "id": "0d7eb69d",
   "metadata": {},
   "outputs": [
    {
     "data": {
      "text/plain": [
       "array([[[1, 8],\n",
       "        [2, 6],\n",
       "        [1, 6]],\n",
       "\n",
       "       [[5, 6],\n",
       "        [5, 4],\n",
       "        [8, 6]]])"
      ]
     },
     "execution_count": 98,
     "metadata": {},
     "output_type": "execute_result"
    }
   ],
   "source": [
    "o[:, :, :2]"
   ]
  },
  {
   "cell_type": "code",
   "execution_count": 113,
   "id": "4aaa6d51",
   "metadata": {},
   "outputs": [
    {
     "data": {
      "text/plain": [
       "array([37, 12, 72,  9, 75,  5, 79, 64, 16,  1, 76, 71,  6, 25, 50, 20, 18,\n",
       "       84, 11, 28, 29, 14, 50, 68, 87, 87, 94, 96, 86, 13,  9,  7, 63, 61,\n",
       "       22, 57,  1,  0, 60, 81,  8, 88, 13, 47, 72, 30, 71,  3, 70, 21, 49,\n",
       "       57,  3, 68, 24, 43, 76, 26, 52, 80])"
      ]
     },
     "execution_count": 113,
     "metadata": {},
     "output_type": "execute_result"
    }
   ],
   "source": [
    "np.random.seed(1)\n",
    "q=np.random.randint(0, 100, size=60)\n",
    "q"
   ]
  },
  {
   "cell_type": "code",
   "execution_count": 114,
   "id": "430751f1",
   "metadata": {},
   "outputs": [
    {
     "data": {
      "text/plain": [
       "1"
      ]
     },
     "execution_count": 114,
     "metadata": {},
     "output_type": "execute_result"
    }
   ],
   "source": [
    "q.ndim"
   ]
  },
  {
   "cell_type": "code",
   "execution_count": 115,
   "id": "233fffab",
   "metadata": {},
   "outputs": [
    {
     "data": {
      "text/plain": [
       "(60,)"
      ]
     },
     "execution_count": 115,
     "metadata": {},
     "output_type": "execute_result"
    }
   ],
   "source": [
    "q.shape"
   ]
  },
  {
   "cell_type": "code",
   "execution_count": 116,
   "id": "3f839781",
   "metadata": {},
   "outputs": [
    {
     "data": {
      "text/plain": [
       "(1, 60)"
      ]
     },
     "execution_count": 116,
     "metadata": {},
     "output_type": "execute_result"
    }
   ],
   "source": [
    "q=q.reshape(1,60)\n",
    "q.shape"
   ]
  },
  {
   "cell_type": "code",
   "execution_count": 117,
   "id": "98cc1e62",
   "metadata": {},
   "outputs": [
    {
     "data": {
      "text/plain": [
       "array([[[37, 12, 72,  9, 75],\n",
       "        [ 5, 79, 64, 16,  1],\n",
       "        [76, 71,  6, 25, 50]],\n",
       "\n",
       "       [[20, 18, 84, 11, 28],\n",
       "        [29, 14, 50, 68, 87],\n",
       "        [87, 94, 96, 86, 13]],\n",
       "\n",
       "       [[ 9,  7, 63, 61, 22],\n",
       "        [57,  1,  0, 60, 81],\n",
       "        [ 8, 88, 13, 47, 72]],\n",
       "\n",
       "       [[30, 71,  3, 70, 21],\n",
       "        [49, 57,  3, 68, 24],\n",
       "        [43, 76, 26, 52, 80]]])"
      ]
     },
     "execution_count": 117,
     "metadata": {},
     "output_type": "execute_result"
    }
   ],
   "source": [
    "q=q.reshape((4,3,5))\n",
    "q"
   ]
  },
  {
   "cell_type": "code",
   "execution_count": 118,
   "id": "f0eefff7",
   "metadata": {},
   "outputs": [
    {
     "data": {
      "text/plain": [
       "array([ 0,  1,  3,  5,  6,  7,  8,  9, 11, 12, 13, 14, 16, 18, 20, 21, 22,\n",
       "       24, 25, 26, 28, 29, 30, 37, 43, 47, 49, 50, 52, 57, 60, 61, 63, 64,\n",
       "       68, 70, 71, 72, 75, 76, 79, 80, 81, 84, 86, 87, 88, 94, 96])"
      ]
     },
     "execution_count": 118,
     "metadata": {},
     "output_type": "execute_result"
    }
   ],
   "source": [
    "unique_q = np.unique(q)\n",
    "unique_q"
   ]
  },
  {
   "cell_type": "code",
   "execution_count": 119,
   "id": "914c17f1",
   "metadata": {},
   "outputs": [
    {
     "data": {
      "text/plain": [
       "array([37, 12, 72, 75, 79, 64, 16, 76, 71, 25, 50, 20, 18, 84, 11, 28, 29,\n",
       "       14, 50, 68, 87, 87, 94, 96, 86, 13, 63, 61, 22, 57, 60, 81, 88, 13,\n",
       "       47, 72, 30, 71, 70, 21, 49, 57, 68, 24, 43, 76, 26, 52, 80])"
      ]
     },
     "execution_count": 119,
     "metadata": {},
     "output_type": "execute_result"
    }
   ],
   "source": [
    "q[q>10]"
   ]
  },
  {
   "cell_type": "code",
   "execution_count": 120,
   "id": "fa1a4b51",
   "metadata": {},
   "outputs": [
    {
     "data": {
      "text/plain": [
       "array([[[ True,  True,  True, False,  True],\n",
       "        [False,  True,  True,  True, False],\n",
       "        [ True,  True, False,  True,  True]],\n",
       "\n",
       "       [[ True,  True,  True,  True,  True],\n",
       "        [ True,  True,  True,  True,  True],\n",
       "        [ True,  True,  True,  True,  True]],\n",
       "\n",
       "       [[False, False,  True,  True,  True],\n",
       "        [ True, False, False,  True,  True],\n",
       "        [False,  True,  True,  True,  True]],\n",
       "\n",
       "       [[ True,  True, False,  True,  True],\n",
       "        [ True,  True, False,  True,  True],\n",
       "        [ True,  True,  True,  True,  True]]])"
      ]
     },
     "execution_count": 120,
     "metadata": {},
     "output_type": "execute_result"
    }
   ],
   "source": [
    "shart1 = q>10\n",
    "shart1"
   ]
  },
  {
   "cell_type": "code",
   "execution_count": 121,
   "id": "62594e69",
   "metadata": {},
   "outputs": [
    {
     "data": {
      "text/plain": [
       "array([[[False,  True,  True, False, False],\n",
       "        [False, False,  True,  True, False],\n",
       "        [ True, False,  True, False,  True]],\n",
       "\n",
       "       [[ True,  True,  True, False,  True],\n",
       "        [False,  True,  True,  True, False],\n",
       "        [False,  True,  True,  True, False]],\n",
       "\n",
       "       [[False, False, False, False,  True],\n",
       "        [False, False,  True,  True, False],\n",
       "        [ True,  True, False, False,  True]],\n",
       "\n",
       "       [[ True, False, False,  True, False],\n",
       "        [False, False, False,  True,  True],\n",
       "        [False,  True,  True,  True,  True]]])"
      ]
     },
     "execution_count": 121,
     "metadata": {},
     "output_type": "execute_result"
    }
   ],
   "source": [
    "shart2= q % 2 ==0\n",
    "shart2"
   ]
  },
  {
   "cell_type": "code",
   "execution_count": 122,
   "id": "8e7c1c3d",
   "metadata": {},
   "outputs": [
    {
     "data": {
      "text/plain": [
       "array([12, 72, 64, 16, 76, 50, 20, 18, 84, 28, 14, 50, 68, 94, 96, 86, 22,\n",
       "       60, 88, 72, 30, 70, 68, 24, 76, 26, 52, 80])"
      ]
     },
     "execution_count": 122,
     "metadata": {},
     "output_type": "execute_result"
    }
   ],
   "source": [
    "mask=np.logical_and(shart1, shart2)\n",
    "q[mask]"
   ]
  },
  {
   "cell_type": "code",
   "execution_count": 123,
   "id": "af224cae",
   "metadata": {},
   "outputs": [
    {
     "data": {
      "text/plain": [
       "array([37, 12, 72, 75, 79, 64, 16, 76, 71,  6, 25, 50, 20, 18, 84, 11, 28,\n",
       "       29, 14, 50, 68, 87, 87, 94, 96, 86, 13, 63, 61, 22, 57,  0, 60, 81,\n",
       "        8, 88, 13, 47, 72, 30, 71, 70, 21, 49, 57, 68, 24, 43, 76, 26, 52,\n",
       "       80])"
      ]
     },
     "execution_count": 123,
     "metadata": {},
     "output_type": "execute_result"
    }
   ],
   "source": [
    "mask2=np.logical_or(shart1, shart2)\n",
    "q[mask2]"
   ]
  },
  {
   "cell_type": "code",
   "execution_count": 124,
   "id": "67b67afd",
   "metadata": {},
   "outputs": [
    {
     "data": {
      "text/plain": [
       "array([0, 1, 2, 3, 4, 5, 6, 7, 8, 9])"
      ]
     },
     "execution_count": 124,
     "metadata": {},
     "output_type": "execute_result"
    }
   ],
   "source": [
    "z= np.arange(10)\n",
    "z"
   ]
  },
  {
   "cell_type": "code",
   "execution_count": 132,
   "id": "be6dfe93",
   "metadata": {},
   "outputs": [
    {
     "data": {
      "text/plain": [
       "array([ 4,  5,  6,  7,  8,  9, 10, 11, 12, 13])"
      ]
     },
     "execution_count": 132,
     "metadata": {},
     "output_type": "execute_result"
    }
   ],
   "source": [
    "z+4"
   ]
  },
  {
   "cell_type": "code",
   "execution_count": 133,
   "id": "6129a7fa",
   "metadata": {},
   "outputs": [
    {
     "data": {
      "text/plain": [
       "array([0, 1, 2, 3, 4, 5, 6, 7, 8, 9])"
      ]
     },
     "execution_count": 133,
     "metadata": {},
     "output_type": "execute_result"
    }
   ],
   "source": [
    "z"
   ]
  },
  {
   "cell_type": "code",
   "execution_count": 134,
   "id": "d95059d2",
   "metadata": {},
   "outputs": [
    {
     "data": {
      "text/plain": [
       "array([[3, 3, 8, 8, 8, 8, 2, 8, 4, 5]])"
      ]
     },
     "execution_count": 134,
     "metadata": {},
     "output_type": "execute_result"
    }
   ],
   "source": [
    "y=np.random.randint(1, 9, size=10).reshape(1, 10)\n",
    "y"
   ]
  },
  {
   "cell_type": "code",
   "execution_count": 135,
   "id": "573074e7",
   "metadata": {},
   "outputs": [
    {
     "data": {
      "text/plain": [
       "array([[ 3,  4, 10, 11, 12, 13,  8, 15, 12, 14]])"
      ]
     },
     "execution_count": 135,
     "metadata": {},
     "output_type": "execute_result"
    }
   ],
   "source": [
    "z + y"
   ]
  },
  {
   "cell_type": "code",
   "execution_count": 136,
   "id": "90e11b85",
   "metadata": {},
   "outputs": [
    {
     "data": {
      "text/plain": [
       "array([[-3, -2, -6, -5, -4, -3,  4, -1,  4,  4]])"
      ]
     },
     "execution_count": 136,
     "metadata": {},
     "output_type": "execute_result"
    }
   ],
   "source": [
    "z - y"
   ]
  },
  {
   "cell_type": "code",
   "execution_count": 137,
   "id": "8b902845",
   "metadata": {},
   "outputs": [
    {
     "data": {
      "text/plain": [
       "array([[ 0,  3, 16, 24, 32, 40, 12, 56, 32, 45]])"
      ]
     },
     "execution_count": 137,
     "metadata": {},
     "output_type": "execute_result"
    }
   ],
   "source": [
    "z * y"
   ]
  },
  {
   "cell_type": "code",
   "execution_count": 139,
   "id": "3ccad585",
   "metadata": {},
   "outputs": [
    {
     "data": {
      "text/plain": [
       "array([0, 1, 2, 3, 4])"
      ]
     },
     "execution_count": 139,
     "metadata": {},
     "output_type": "execute_result"
    }
   ],
   "source": [
    "u= np.arange(5)\n",
    "u"
   ]
  },
  {
   "cell_type": "code",
   "execution_count": 143,
   "id": "d3e6d528",
   "metadata": {},
   "outputs": [
    {
     "data": {
      "text/plain": [
       "array([[2, 6, 8, 1, 2],\n",
       "       [4, 2, 2, 7, 6],\n",
       "       [5, 5, 4, 7, 6],\n",
       "       [1, 4, 8, 1, 4],\n",
       "       [2, 3, 8, 6, 6],\n",
       "       [5, 6, 1, 6, 1],\n",
       "       [6, 4, 2, 2, 8],\n",
       "       [6, 1, 7, 6, 8],\n",
       "       [1, 5, 3, 6, 4],\n",
       "       [5, 3, 7, 7, 1]])"
      ]
     },
     "execution_count": 143,
     "metadata": {},
     "output_type": "execute_result"
    }
   ],
   "source": [
    "v=np.random.randint(1 , 9, size=50).reshape(10, 5)\n",
    "v"
   ]
  },
  {
   "cell_type": "code",
   "execution_count": 144,
   "id": "15682720",
   "metadata": {},
   "outputs": [
    {
     "data": {
      "text/plain": [
       "array([[ 2,  7, 10,  4,  6],\n",
       "       [ 4,  3,  4, 10, 10],\n",
       "       [ 5,  6,  6, 10, 10],\n",
       "       [ 1,  5, 10,  4,  8],\n",
       "       [ 2,  4, 10,  9, 10],\n",
       "       [ 5,  7,  3,  9,  5],\n",
       "       [ 6,  5,  4,  5, 12],\n",
       "       [ 6,  2,  9,  9, 12],\n",
       "       [ 1,  6,  5,  9,  8],\n",
       "       [ 5,  4,  9, 10,  5]])"
      ]
     },
     "execution_count": 144,
     "metadata": {},
     "output_type": "execute_result"
    }
   ],
   "source": [
    "u + v"
   ]
  },
  {
   "cell_type": "code",
   "execution_count": 145,
   "id": "f73d5612",
   "metadata": {},
   "outputs": [
    {
     "data": {
      "text/plain": [
       "array([[0],\n",
       "       [1],\n",
       "       [2],\n",
       "       [3],\n",
       "       [4]])"
      ]
     },
     "execution_count": 145,
     "metadata": {},
     "output_type": "execute_result"
    }
   ],
   "source": [
    "n=np.arange(5).reshape(5, 1)\n",
    "n"
   ]
  },
  {
   "cell_type": "code",
   "execution_count": 147,
   "id": "9561763d",
   "metadata": {},
   "outputs": [
    {
     "data": {
      "text/plain": [
       "array([[ 0,  0,  0,  0,  0],\n",
       "       [ 0,  1,  2,  3,  4],\n",
       "       [ 0,  2,  4,  6,  8],\n",
       "       [ 0,  3,  6,  9, 12],\n",
       "       [ 0,  4,  8, 12, 16]])"
      ]
     },
     "execution_count": 147,
     "metadata": {},
     "output_type": "execute_result"
    }
   ],
   "source": [
    "u * n"
   ]
  },
  {
   "cell_type": "code",
   "execution_count": 148,
   "id": "d113f196",
   "metadata": {},
   "outputs": [
    {
     "data": {
      "text/plain": [
       "array([30])"
      ]
     },
     "execution_count": 148,
     "metadata": {},
     "output_type": "execute_result"
    }
   ],
   "source": [
    "u.dot(n)"
   ]
  },
  {
   "cell_type": "code",
   "execution_count": 149,
   "id": "f59b1e12",
   "metadata": {},
   "outputs": [
    {
     "data": {
      "text/plain": [
       "array([[2, 6, 8, 1, 2],\n",
       "       [4, 2, 2, 7, 6],\n",
       "       [5, 5, 4, 7, 6],\n",
       "       [1, 4, 8, 1, 4],\n",
       "       [2, 3, 8, 6, 6],\n",
       "       [5, 6, 1, 6, 1],\n",
       "       [6, 4, 2, 2, 8],\n",
       "       [6, 1, 7, 6, 8],\n",
       "       [1, 5, 3, 6, 4],\n",
       "       [5, 3, 7, 7, 1]])"
      ]
     },
     "execution_count": 149,
     "metadata": {},
     "output_type": "execute_result"
    }
   ],
   "source": [
    "v"
   ]
  },
  {
   "cell_type": "code",
   "execution_count": 150,
   "id": "61386c83",
   "metadata": {},
   "outputs": [
    {
     "data": {
      "text/plain": [
       "4.42"
      ]
     },
     "execution_count": 150,
     "metadata": {},
     "output_type": "execute_result"
    }
   ],
   "source": [
    "np.sum(v)/v.size"
   ]
  },
  {
   "cell_type": "code",
   "execution_count": 151,
   "id": "29edbc32",
   "metadata": {},
   "outputs": [
    {
     "data": {
      "text/plain": [
       "4.42"
      ]
     },
     "execution_count": 151,
     "metadata": {},
     "output_type": "execute_result"
    }
   ],
   "source": [
    "np.mean(v)"
   ]
  },
  {
   "cell_type": "code",
   "execution_count": 152,
   "id": "7be2e978",
   "metadata": {},
   "outputs": [
    {
     "data": {
      "text/plain": [
       "8"
      ]
     },
     "execution_count": 152,
     "metadata": {},
     "output_type": "execute_result"
    }
   ],
   "source": [
    "np.max(v)"
   ]
  },
  {
   "cell_type": "code",
   "execution_count": 153,
   "id": "7e3220f2",
   "metadata": {},
   "outputs": [
    {
     "data": {
      "text/plain": [
       "5.3636"
      ]
     },
     "execution_count": 153,
     "metadata": {},
     "output_type": "execute_result"
    }
   ],
   "source": [
    "np.var(v)"
   ]
  },
  {
   "cell_type": "code",
   "execution_count": 154,
   "id": "9df031f8",
   "metadata": {},
   "outputs": [
    {
     "data": {
      "text/plain": [
       "2.3159447316376096"
      ]
     },
     "execution_count": 154,
     "metadata": {},
     "output_type": "execute_result"
    }
   ],
   "source": [
    "np.std(v)"
   ]
  },
  {
   "cell_type": "code",
   "execution_count": 158,
   "id": "eea3c5c5",
   "metadata": {},
   "outputs": [
    {
     "data": {
      "text/plain": [
       "2.3159447316376096"
      ]
     },
     "execution_count": 158,
     "metadata": {},
     "output_type": "execute_result"
    }
   ],
   "source": [
    "np.sqrt(np.var(v))"
   ]
  },
  {
   "cell_type": "code",
   "execution_count": 159,
   "id": "adc21445",
   "metadata": {},
   "outputs": [],
   "source": [
    "names=[\"hadi\",\"amir\",\"zahra\",\"ali\"]\n",
    "ages=[20, 15, 25, 28]\n",
    "shahrha=[\"ahvaz\",\"esfahan\",\"tehran\",\"mashhad\"]"
   ]
  },
  {
   "cell_type": "code",
   "execution_count": 188,
   "id": "b7725e05",
   "metadata": {},
   "outputs": [],
   "source": [
    "Olgo=[(\"name\", \"U1\"),(\"age\", \"i4\"),(\"shahr\",\"U15\")]"
   ]
  },
  {
   "cell_type": "code",
   "execution_count": 189,
   "id": "0bff0744",
   "metadata": {},
   "outputs": [
    {
     "data": {
      "text/plain": [
       "array([('', 0, ''), ('', 0, ''), ('', 0, ''), ('', 0, ''), ('', 0, '')],\n",
       "      dtype=[('name', '<U1'), ('age', '<i4'), ('shahr', '<U15')])"
      ]
     },
     "execution_count": 189,
     "metadata": {},
     "output_type": "execute_result"
    }
   ],
   "source": [
    "Hadi_Array=np.zeros((5), dtype=Olgo)\n",
    "Hadi_Array"
   ]
  },
  {
   "cell_type": "code",
   "execution_count": 190,
   "id": "460828e0",
   "metadata": {},
   "outputs": [
    {
     "data": {
      "text/plain": [
       "array([('',  0, ''), ('H', 20, 'ahvaz'), ('',  0, ''), ('',  0, ''),\n",
       "       ('',  0, '')],\n",
       "      dtype=[('name', '<U1'), ('age', '<i4'), ('shahr', '<U15')])"
      ]
     },
     "execution_count": 190,
     "metadata": {},
     "output_type": "execute_result"
    }
   ],
   "source": [
    "Hadi_Array[1]=(\"Hadi\", 20, \"ahvaz\")\n",
    "Hadi_Array"
   ]
  },
  {
   "cell_type": "code",
   "execution_count": 191,
   "id": "58ec7ca5",
   "metadata": {},
   "outputs": [
    {
     "data": {
      "text/plain": [
       "array([('',  0, ''), ('H', 20, 'ahvaz'), ('',  0, ''),\n",
       "       ('A', 30, 'bushehr'), ('',  0, '')],\n",
       "      dtype=[('name', '<U1'), ('age', '<i4'), ('shahr', '<U15')])"
      ]
     },
     "execution_count": 191,
     "metadata": {},
     "output_type": "execute_result"
    }
   ],
   "source": [
    "Hadi_Array[3]=(\"Ali\", 30, \"bushehr\")\n",
    "Hadi_Array"
   ]
  },
  {
   "cell_type": "code",
   "execution_count": 192,
   "id": "526574dd",
   "metadata": {},
   "outputs": [
    {
     "data": {
      "text/plain": [
       "array([ 0, 20,  0, 30,  0])"
      ]
     },
     "execution_count": 192,
     "metadata": {},
     "output_type": "execute_result"
    }
   ],
   "source": [
    "Hadi_Array[\"age\"]"
   ]
  },
  {
   "cell_type": "code",
   "execution_count": 193,
   "id": "e4477f91",
   "metadata": {},
   "outputs": [
    {
     "data": {
      "text/plain": [
       "array(['', 'H', '', 'A', ''], dtype='<U1')"
      ]
     },
     "execution_count": 193,
     "metadata": {},
     "output_type": "execute_result"
    }
   ],
   "source": [
    "Hadi_Array[\"name\"]"
   ]
  },
  {
   "cell_type": "code",
   "execution_count": null,
   "id": "e1eaa992",
   "metadata": {},
   "outputs": [],
   "source": []
  },
  {
   "cell_type": "code",
   "execution_count": null,
   "id": "e8aa5374",
   "metadata": {},
   "outputs": [],
   "source": []
  },
  {
   "cell_type": "code",
   "execution_count": null,
   "id": "baefa4c2",
   "metadata": {},
   "outputs": [],
   "source": []
  },
  {
   "cell_type": "code",
   "execution_count": null,
   "id": "a40d00da",
   "metadata": {},
   "outputs": [],
   "source": []
  }
 ],
 "metadata": {
  "kernelspec": {
   "display_name": "Python 3 (ipykernel)",
   "language": "python",
   "name": "python3"
  },
  "language_info": {
   "codemirror_mode": {
    "name": "ipython",
    "version": 3
   },
   "file_extension": ".py",
   "mimetype": "text/x-python",
   "name": "python",
   "nbconvert_exporter": "python",
   "pygments_lexer": "ipython3",
   "version": "3.9.7"
  }
 },
 "nbformat": 4,
 "nbformat_minor": 5
}
