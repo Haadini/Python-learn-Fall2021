{
 "cells": [
  {
   "cell_type": "code",
   "execution_count": 28,
   "id": "0a0d6916",
   "metadata": {},
   "outputs": [],
   "source": [
    "from matplotlib.image import imread\n",
    "import numpy as np\n",
    "import datetime\n",
    "import pandas as pd"
   ]
  },
  {
   "cell_type": "markdown",
   "id": "092a8533",
   "metadata": {},
   "source": [
    "<img src=\"images.jpg\" width=250 height=100 />"
   ]
  },
  {
   "cell_type": "code",
   "execution_count": 26,
   "id": "bfcfe6a1",
   "metadata": {},
   "outputs": [],
   "source": [
    "image1 = imread(\"images.jpg\")"
   ]
  },
  {
   "cell_type": "code",
   "execution_count": 3,
   "id": "1bd3a8f8",
   "metadata": {},
   "outputs": [
    {
     "data": {
      "text/plain": [
       "numpy.ndarray"
      ]
     },
     "execution_count": 3,
     "metadata": {},
     "output_type": "execute_result"
    }
   ],
   "source": [
    "type(image1)"
   ]
  },
  {
   "cell_type": "code",
   "execution_count": 4,
   "id": "73997b0f",
   "metadata": {},
   "outputs": [
    {
     "data": {
      "text/plain": [
       "150975"
      ]
     },
     "execution_count": 4,
     "metadata": {},
     "output_type": "execute_result"
    }
   ],
   "source": [
    "image1.size"
   ]
  },
  {
   "cell_type": "code",
   "execution_count": 5,
   "id": "992c41ac",
   "metadata": {},
   "outputs": [
    {
     "data": {
      "text/plain": [
       "(183, 275, 3)"
      ]
     },
     "execution_count": 5,
     "metadata": {},
     "output_type": "execute_result"
    }
   ],
   "source": [
    "image1.shape"
   ]
  },
  {
   "cell_type": "code",
   "execution_count": 6,
   "id": "42a0230b",
   "metadata": {},
   "outputs": [
    {
     "data": {
      "text/plain": [
       "3"
      ]
     },
     "execution_count": 6,
     "metadata": {},
     "output_type": "execute_result"
    }
   ],
   "source": [
    "image1.ndim"
   ]
  },
  {
   "cell_type": "code",
   "execution_count": 7,
   "id": "caab363c",
   "metadata": {},
   "outputs": [
    {
     "data": {
      "text/plain": [
       "array([[ 29,  63,   2],\n",
       "       [ 40,  55,   0],\n",
       "       [ 59,  65,  17],\n",
       "       [ 54,  78,  26],\n",
       "       [ 65, 105,  52],\n",
       "       [ 49,  81,  34],\n",
       "       [  0,  11,   0],\n",
       "       [  0,  16,   0],\n",
       "       [  0,  44,   1],\n",
       "       [  4,  65,  21],\n",
       "       [  4,  52,  14],\n",
       "       [ 58, 102,  66],\n",
       "       [ 83, 148, 105],\n",
       "       [ 45, 133,  82],\n",
       "       [ 47, 131,  81],\n",
       "       [ 23,  88,  45],\n",
       "       [ 31,  34,  17],\n",
       "       [ 69,  70,  56],\n",
       "       [ 68,  65,  56],\n",
       "       [ 37,  34,  27],\n",
       "       [ 40,  43,  34],\n",
       "       [ 21,  35,  20],\n",
       "       [ 13,  43,  15],\n",
       "       [ 34,  81,  39],\n",
       "       [ 32,  95,  38],\n",
       "       [ 23,  94,  26],\n",
       "       [ 42, 112,  40],\n",
       "       [ 53, 112,  44],\n",
       "       [ 65, 105,  45],\n",
       "       [ 58,  76,  28],\n",
       "       [ 69,  67,  29],\n",
       "       [ 20,   7,   0],\n",
       "       [  0,  37,   8],\n",
       "       [  1,  34,   7],\n",
       "       [  0,  26,   1],\n",
       "       [ 19,  36,  17],\n",
       "       [  2,  11,   0],\n",
       "       [  4,  11,   0],\n",
       "       [ 17,  26,   9],\n",
       "       [  5,  20,   1],\n",
       "       [  0,  17,   0],\n",
       "       [  0,  14,   0],\n",
       "       [ 27,  71,  35],\n",
       "       [ 79, 130,  87],\n",
       "       [ 21,  74,  28],\n",
       "       [ 26,  80,  31],\n",
       "       [ 12,  66,  16],\n",
       "       [  0,  45,   0],\n",
       "       [  0,  48,   0],\n",
       "       [ 34, 108,  33],\n",
       "       [ 50, 143,  52],\n",
       "       [ 35, 109,  24],\n",
       "       [ 66,  93,  38],\n",
       "       [ 28,  18,   0],\n",
       "       [ 27,  19,   0],\n",
       "       [ 28,  44,   7],\n",
       "       [ 20,  58,   0],\n",
       "       [ 87, 119,  52],\n",
       "       [ 92, 109,  54],\n",
       "       [ 50,  58,  21],\n",
       "       [ 45,  59,  34],\n",
       "       [ 26,  49,  21],\n",
       "       [  5,  30,   0],\n",
       "       [ 47,  67,  18],\n",
       "       [ 10,  31,   0],\n",
       "       [ 47,  68,  37],\n",
       "       [ 34,  53,  25],\n",
       "       [ 54,  68,  43],\n",
       "       [ 62,  74,  52],\n",
       "       [ 53,  60,  42],\n",
       "       [  3,   5,   0],\n",
       "       [ 13,  13,   1],\n",
       "       [ 32,  30,  18],\n",
       "       [ 26,  24,  12],\n",
       "       [  5,   1,   0],\n",
       "       [  8,   6,   0],\n",
       "       [ 11,   9,   0],\n",
       "       [ 18,  17,   0],\n",
       "       [ 57,  58,  40],\n",
       "       [ 78,  80,  59],\n",
       "       [ 43,  34,  17],\n",
       "       [ 23,  17,   1],\n",
       "       [ 27,  26,   8],\n",
       "       [ 26,  34,  13],\n",
       "       [ 25,  39,  16],\n",
       "       [ 26,  46,  19],\n",
       "       [ 64,  89,  57],\n",
       "       [ 28,  56,  18],\n",
       "       [ 23,  56,  11],\n",
       "       [ 45,  82,  30],\n",
       "       [112, 153,  95],\n",
       "       [ 84, 132,  70],\n",
       "       [ 42,  97,  32],\n",
       "       [ 14,  75,   8],\n",
       "       [  0,  55,   0],\n",
       "       [ 13,  82,  15],\n",
       "       [ 66,  90,  54],\n",
       "       [ 55,  79,  43],\n",
       "       [ 40,  66,  31],\n",
       "       [ 30,  55,  23],\n",
       "       [ 50,  77,  44],\n",
       "       [112, 141, 110],\n",
       "       [125, 156, 125],\n",
       "       [ 62,  93,  62],\n",
       "       [ 47,  77,  49],\n",
       "       [ 30,  60,  32],\n",
       "       [ 35,  64,  36],\n",
       "       [ 43,  69,  42],\n",
       "       [ 38,  63,  34],\n",
       "       [ 61,  86,  57],\n",
       "       [ 72,  95,  67],\n",
       "       [ 28,  51,  23],\n",
       "       [ 27,  30,  13],\n",
       "       [ 27,  28,  12],\n",
       "       [ 53,  52,  34],\n",
       "       [ 55,  49,  33],\n",
       "       [ 59,  52,  34],\n",
       "       [ 69,  64,  45],\n",
       "       [ 45,  44,  23],\n",
       "       [ 24,  29,   6],\n",
       "       [ 14,  27,   0],\n",
       "       [ 23,  40,   8],\n",
       "       [ 13,  32,   0],\n",
       "       [ 20,  37,   3],\n",
       "       [ 28,  39,   7],\n",
       "       [ 38,  43,  11],\n",
       "       [ 63,  62,  32],\n",
       "       [ 43,  38,   9],\n",
       "       [ 25,  26,  12],\n",
       "       [ 12,   9,   0],\n",
       "       [118, 112,  90],\n",
       "       [ 79,  70,  41],\n",
       "       [ 78,  65,  33],\n",
       "       [ 97,  84,  49],\n",
       "       [ 87,  77,  42],\n",
       "       [ 40,  36,   1],\n",
       "       [ 72,  71,  41],\n",
       "       [ 71,  74,  47],\n",
       "       [ 78,  82,  57],\n",
       "       [ 30,  30,   6],\n",
       "       [ 32,  28,   1],\n",
       "       [ 28,  17,   0],\n",
       "       [ 76,  60,  27],\n",
       "       [ 98,  79,  46],\n",
       "       [ 96,  78,  56],\n",
       "       [ 92,  77,  54],\n",
       "       [ 46,  35,  13],\n",
       "       [ 61,  55,  33],\n",
       "       [ 53,  48,  26],\n",
       "       [ 66,  64,  41],\n",
       "       [ 59,  55,  28],\n",
       "       [ 93,  86,  58],\n",
       "       [ 74,  65,  32],\n",
       "       [ 84,  76,  40],\n",
       "       [146, 141, 101],\n",
       "       [117, 118,  76],\n",
       "       [111, 120,  75],\n",
       "       [ 62,  81,  35],\n",
       "       [ 30,  58,  10],\n",
       "       [ 91, 123,  74],\n",
       "       [ 41, 132,  37],\n",
       "       [ 59, 148,  54],\n",
       "       [ 61, 144,  56],\n",
       "       [ 56, 129,  48],\n",
       "       [ 61, 124,  53],\n",
       "       [ 60, 114,  52],\n",
       "       [ 21,  64,  11],\n",
       "       [ 26,  58,  17],\n",
       "       [  9,  33,   1],\n",
       "       [  3,  18,   0],\n",
       "       [  0,   5,   0],\n",
       "       [ 27,  30,  21],\n",
       "       [ 63,  64,  58],\n",
       "       [ 37,  36,  34],\n",
       "       [ 41,  40,  38],\n",
       "       [ 62,  60,  61],\n",
       "       [  0,   6,   0],\n",
       "       [  0,   7,   0],\n",
       "       [ 27,  45,  19],\n",
       "       [ 49,  70,  37],\n",
       "       [  4,  31,   0],\n",
       "       [ 20,  51,   9],\n",
       "       [ 16,  48,   7],\n",
       "       [  2,  34,   0],\n",
       "       [  2,  33,   2],\n",
       "       [  1,  29,   6],\n",
       "       [ 15,  38,  18],\n",
       "       [ 13,  32,  13],\n",
       "       [ 12,  27,   8],\n",
       "       [  2,  14,   0],\n",
       "       [ 35,  44,  17],\n",
       "       [ 68,  74,  46],\n",
       "       [ 32,  71,  18],\n",
       "       [ 48,  99,  42],\n",
       "       [ 35,  99,  39],\n",
       "       [ 19,  85,  24],\n",
       "       [  9,  59,   6],\n",
       "       [ 21,  52,  10],\n",
       "       [ 60,  82,  44],\n",
       "       [ 69,  95,  58],\n",
       "       [  6,  44,   7],\n",
       "       [ 49,  93,  57],\n",
       "       [ 23,  60,  29],\n",
       "       [  0,  10,   0],\n",
       "       [  0,   4,   0],\n",
       "       [  0,   4,   0],\n",
       "       [  0,  15,   0],\n",
       "       [  0,  27,   5],\n",
       "       [  0,   6,   0],\n",
       "       [  2,  10,   0],\n",
       "       [  5,   7,   2],\n",
       "       [ 19,  19,  19],\n",
       "       [  3,   1,   6],\n",
       "       [  1,   0,   5],\n",
       "       [  0,   1,   0],\n",
       "       [  6,  19,   9],\n",
       "       [ 11,  33,  12],\n",
       "       [ 12,  41,  11],\n",
       "       [ 18,  49,  15],\n",
       "       [ 23,  53,  19],\n",
       "       [ 24,  47,  19],\n",
       "       [ 21,  36,  15],\n",
       "       [ 15,  23,   8],\n",
       "       [ 11,  14,   3],\n",
       "       [ 22,  19,  14],\n",
       "       [ 18,  19,  13],\n",
       "       [ 17,  23,  11],\n",
       "       [ 11,  24,   6],\n",
       "       [ 38,  61,  35],\n",
       "       [ 32,  61,  30],\n",
       "       [ 26,  62,  24],\n",
       "       [ 66, 107,  65],\n",
       "       [ 16,  59,  16],\n",
       "       [  0,  33,   0],\n",
       "       [  9,  47,   8],\n",
       "       [ 19,  53,  20],\n",
       "       [  0,  29,   0],\n",
       "       [ 18,  42,  18],\n",
       "       [  1,  20,   0],\n",
       "       [ 10,  27,   9],\n",
       "       [  6,  15,   0],\n",
       "       [ 14,  30,   3],\n",
       "       [ 37,  66,  38],\n",
       "       [ 38,  72,  47],\n",
       "       [ 27,  59,  36],\n",
       "       [ 33,  52,  33],\n",
       "       [ 70,  74,  57],\n",
       "       [ 51,  44,  26],\n",
       "       [ 39,  33,  11],\n",
       "       [ 45,  48,  19],\n",
       "       [ 32,  49,  15],\n",
       "       [ 17,  44,  11],\n",
       "       [ 16,  42,  15],\n",
       "       [  8,  25,   9],\n",
       "       [ 12,  14,   9],\n",
       "       [ 37,  31,  33],\n",
       "       [ 85, 118,  91],\n",
       "       [ 96, 129, 102],\n",
       "       [ 77, 110,  83],\n",
       "       [ 73, 106,  77],\n",
       "       [ 44,  77,  48],\n",
       "       [  5,  38,   9],\n",
       "       [ 21,  54,  23],\n",
       "       [ 38,  69,  38],\n",
       "       [  7,  37,   9],\n",
       "       [ 20,  49,  21],\n",
       "       [ 20,  46,  19],\n",
       "       [  0,  10,   0],\n",
       "       [  0,  19,   0],\n",
       "       [  2,  21,   1],\n",
       "       [ 11,  28,  10],\n",
       "       [  0,  14,   0],\n",
       "       [ 22,  60,  19],\n",
       "       [ 21,  59,  18],\n",
       "       [ 19,  57,  16]], dtype=uint8)"
      ]
     },
     "execution_count": 7,
     "metadata": {},
     "output_type": "execute_result"
    }
   ],
   "source": [
    "image1[182]"
   ]
  },
  {
   "cell_type": "code",
   "execution_count": 8,
   "id": "6004c73e",
   "metadata": {},
   "outputs": [],
   "source": [
    "image2 = imread(\"Black-windows-542931.jpg\")"
   ]
  },
  {
   "cell_type": "code",
   "execution_count": 9,
   "id": "9db7b49e",
   "metadata": {},
   "outputs": [
    {
     "data": {
      "text/plain": [
       "(6912000, (1200, 1920, 3), 3)"
      ]
     },
     "execution_count": 9,
     "metadata": {},
     "output_type": "execute_result"
    }
   ],
   "source": [
    "image2.size, image2.shape, image2.ndim"
   ]
  },
  {
   "cell_type": "code",
   "execution_count": 10,
   "id": "d6af082a",
   "metadata": {},
   "outputs": [
    {
     "data": {
      "text/plain": [
       "array([2, 0, 1], dtype=uint8)"
      ]
     },
     "execution_count": 10,
     "metadata": {},
     "output_type": "execute_result"
    }
   ],
   "source": [
    "image2[1199, 1900]"
   ]
  },
  {
   "cell_type": "code",
   "execution_count": 22,
   "id": "8ec1dbfe",
   "metadata": {},
   "outputs": [],
   "source": [
    "a = np.random.randint(10, 99, size=250000, dtype=np.int64)\n",
    "b = np.random.randint(10, 99, size=250000, dtype=np.int64)"
   ]
  },
  {
   "cell_type": "code",
   "execution_count": 23,
   "id": "9a52d736",
   "metadata": {},
   "outputs": [
    {
     "data": {
      "text/plain": [
       "(728161362, datetime.timedelta(microseconds=998))"
      ]
     },
     "execution_count": 23,
     "metadata": {},
     "output_type": "execute_result"
    }
   ],
   "source": [
    "numpy1 = datetime.datetime.now()\n",
    "r_numpy = np.dot(a, b)\n",
    "numpy2= datetime.datetime.now()\n",
    "time_numpy = numpy2-numpy1\n",
    "r_numpy, time_numpy"
   ]
  },
  {
   "cell_type": "code",
   "execution_count": 24,
   "id": "48734bf5",
   "metadata": {},
   "outputs": [
    {
     "data": {
      "text/plain": [
       "(728161362, datetime.timedelta(microseconds=146906))"
      ]
     },
     "execution_count": 24,
     "metadata": {},
     "output_type": "execute_result"
    }
   ],
   "source": [
    "python1 = datetime.datetime.now()\n",
    "r_python = 0\n",
    "for i,j in zip(a,b):\n",
    "    r_python += i*j\n",
    "python2= datetime.datetime.now()\n",
    "time_python = python2-python1\n",
    "r_numpy, time_python"
   ]
  },
  {
   "cell_type": "code",
   "execution_count": 25,
   "id": "81c8c8a7",
   "metadata": {},
   "outputs": [
    {
     "data": {
      "text/plain": [
       "147.2004008016032"
      ]
     },
     "execution_count": 25,
     "metadata": {},
     "output_type": "execute_result"
    }
   ],
   "source": [
    "time_python/ time_numpy"
   ]
  },
  {
   "cell_type": "code",
   "execution_count": 32,
   "id": "2a222363",
   "metadata": {},
   "outputs": [
    {
     "data": {
      "text/plain": [
       "array([[7, 6, 5],\n",
       "       [7, 9, 6],\n",
       "       [7, 5, 8],\n",
       "       [5, 9, 6],\n",
       "       [7, 6, 5],\n",
       "       [5, 8, 5],\n",
       "       [7, 5, 5]])"
      ]
     },
     "execution_count": 32,
     "metadata": {},
     "output_type": "execute_result"
    }
   ],
   "source": [
    "numberOFsale= np.random.randint(5,10 ,size=(7 , 3))\n",
    "numberOFsale"
   ]
  },
  {
   "cell_type": "code",
   "execution_count": 35,
   "id": "1c227e93",
   "metadata": {},
   "outputs": [
    {
     "data": {
      "text/html": [
       "<div>\n",
       "<style scoped>\n",
       "    .dataframe tbody tr th:only-of-type {\n",
       "        vertical-align: middle;\n",
       "    }\n",
       "\n",
       "    .dataframe tbody tr th {\n",
       "        vertical-align: top;\n",
       "    }\n",
       "\n",
       "    .dataframe thead th {\n",
       "        text-align: right;\n",
       "    }\n",
       "</style>\n",
       "<table border=\"1\" class=\"dataframe\">\n",
       "  <thead>\n",
       "    <tr style=\"text-align: right;\">\n",
       "      <th></th>\n",
       "      <th>shalvar</th>\n",
       "      <th>Shirt</th>\n",
       "      <th>T_shirt</th>\n",
       "    </tr>\n",
       "  </thead>\n",
       "  <tbody>\n",
       "    <tr>\n",
       "      <th>Satureday</th>\n",
       "      <td>7</td>\n",
       "      <td>6</td>\n",
       "      <td>5</td>\n",
       "    </tr>\n",
       "    <tr>\n",
       "      <th>Sunday</th>\n",
       "      <td>7</td>\n",
       "      <td>9</td>\n",
       "      <td>6</td>\n",
       "    </tr>\n",
       "    <tr>\n",
       "      <th>Monday</th>\n",
       "      <td>7</td>\n",
       "      <td>5</td>\n",
       "      <td>8</td>\n",
       "    </tr>\n",
       "    <tr>\n",
       "      <th>Thuseday</th>\n",
       "      <td>5</td>\n",
       "      <td>9</td>\n",
       "      <td>6</td>\n",
       "    </tr>\n",
       "    <tr>\n",
       "      <th>Wednesday</th>\n",
       "      <td>7</td>\n",
       "      <td>6</td>\n",
       "      <td>5</td>\n",
       "    </tr>\n",
       "    <tr>\n",
       "      <th>Thursday</th>\n",
       "      <td>5</td>\n",
       "      <td>8</td>\n",
       "      <td>5</td>\n",
       "    </tr>\n",
       "    <tr>\n",
       "      <th>Friday</th>\n",
       "      <td>7</td>\n",
       "      <td>5</td>\n",
       "      <td>5</td>\n",
       "    </tr>\n",
       "  </tbody>\n",
       "</table>\n",
       "</div>"
      ],
      "text/plain": [
       "           shalvar  Shirt  T_shirt\n",
       "Satureday        7      6        5\n",
       "Sunday           7      9        6\n",
       "Monday           7      5        8\n",
       "Thuseday         5      9        6\n",
       "Wednesday        7      6        5\n",
       "Thursday         5      8        5\n",
       "Friday           7      5        5"
      ]
     },
     "execution_count": 35,
     "metadata": {},
     "output_type": "execute_result"
    }
   ],
   "source": [
    "Sales=pd.DataFrame(numberOFsale, index=[\"Satureday\", \"Sunday\", \"Monday\", \"Thuseday\",\"Wednesday\",\"Thursday\",\"Friday\"], columns=[\"shalvar\", \"Shirt\",\"T_shirt\"])\n",
    "Sales"
   ]
  },
  {
   "cell_type": "code",
   "execution_count": 45,
   "id": "207ccf18",
   "metadata": {},
   "outputs": [
    {
     "data": {
      "text/plain": [
       "array([[150, 300,  90]])"
      ]
     },
     "execution_count": 45,
     "metadata": {},
     "output_type": "execute_result"
    }
   ],
   "source": [
    "Price = np.array([150, 300, 90])\n",
    "Price.shape=(1, 3)\n",
    "Price"
   ]
  },
  {
   "cell_type": "code",
   "execution_count": 43,
   "id": "59c6c0c5",
   "metadata": {},
   "outputs": [
    {
     "data": {
      "text/html": [
       "<div>\n",
       "<style scoped>\n",
       "    .dataframe tbody tr th:only-of-type {\n",
       "        vertical-align: middle;\n",
       "    }\n",
       "\n",
       "    .dataframe tbody tr th {\n",
       "        vertical-align: top;\n",
       "    }\n",
       "\n",
       "    .dataframe thead th {\n",
       "        text-align: right;\n",
       "    }\n",
       "</style>\n",
       "<table border=\"1\" class=\"dataframe\">\n",
       "  <thead>\n",
       "    <tr style=\"text-align: right;\">\n",
       "      <th></th>\n",
       "      <th>shalvar</th>\n",
       "      <th>Shirt</th>\n",
       "      <th>T_shirt</th>\n",
       "    </tr>\n",
       "  </thead>\n",
       "  <tbody>\n",
       "    <tr>\n",
       "      <th>Price</th>\n",
       "      <td>150</td>\n",
       "      <td>300</td>\n",
       "      <td>90</td>\n",
       "    </tr>\n",
       "  </tbody>\n",
       "</table>\n",
       "</div>"
      ],
      "text/plain": [
       "       shalvar  Shirt  T_shirt\n",
       "Price      150    300       90"
      ]
     },
     "execution_count": 43,
     "metadata": {},
     "output_type": "execute_result"
    }
   ],
   "source": [
    "Cloth_Price = pd.DataFrame(Price, index=[\"Price\"], columns=[\"shalvar\", \"Shirt\",\"T_shirt\"])\n",
    "Cloth_Price"
   ]
  },
  {
   "cell_type": "code",
   "execution_count": 44,
   "id": "ffd8d88e",
   "metadata": {},
   "outputs": [
    {
     "data": {
      "text/plain": [
       "(1, 3)"
      ]
     },
     "execution_count": 44,
     "metadata": {},
     "output_type": "execute_result"
    }
   ],
   "source": [
    "Price.shape"
   ]
  },
  {
   "cell_type": "code",
   "execution_count": 46,
   "id": "15f9631c",
   "metadata": {},
   "outputs": [
    {
     "data": {
      "text/html": [
       "<div>\n",
       "<style scoped>\n",
       "    .dataframe tbody tr th:only-of-type {\n",
       "        vertical-align: middle;\n",
       "    }\n",
       "\n",
       "    .dataframe tbody tr th {\n",
       "        vertical-align: top;\n",
       "    }\n",
       "\n",
       "    .dataframe thead th {\n",
       "        text-align: right;\n",
       "    }\n",
       "</style>\n",
       "<table border=\"1\" class=\"dataframe\">\n",
       "  <thead>\n",
       "    <tr style=\"text-align: right;\">\n",
       "      <th></th>\n",
       "      <th>shalvar</th>\n",
       "      <th>Shirt</th>\n",
       "      <th>T_shirt</th>\n",
       "    </tr>\n",
       "  </thead>\n",
       "  <tbody>\n",
       "    <tr>\n",
       "      <th>Satureday</th>\n",
       "      <td>7</td>\n",
       "      <td>6</td>\n",
       "      <td>5</td>\n",
       "    </tr>\n",
       "    <tr>\n",
       "      <th>Sunday</th>\n",
       "      <td>7</td>\n",
       "      <td>9</td>\n",
       "      <td>6</td>\n",
       "    </tr>\n",
       "    <tr>\n",
       "      <th>Monday</th>\n",
       "      <td>7</td>\n",
       "      <td>5</td>\n",
       "      <td>8</td>\n",
       "    </tr>\n",
       "    <tr>\n",
       "      <th>Thuseday</th>\n",
       "      <td>5</td>\n",
       "      <td>9</td>\n",
       "      <td>6</td>\n",
       "    </tr>\n",
       "    <tr>\n",
       "      <th>Wednesday</th>\n",
       "      <td>7</td>\n",
       "      <td>6</td>\n",
       "      <td>5</td>\n",
       "    </tr>\n",
       "    <tr>\n",
       "      <th>Thursday</th>\n",
       "      <td>5</td>\n",
       "      <td>8</td>\n",
       "      <td>5</td>\n",
       "    </tr>\n",
       "    <tr>\n",
       "      <th>Friday</th>\n",
       "      <td>7</td>\n",
       "      <td>5</td>\n",
       "      <td>5</td>\n",
       "    </tr>\n",
       "  </tbody>\n",
       "</table>\n",
       "</div>"
      ],
      "text/plain": [
       "           shalvar  Shirt  T_shirt\n",
       "Satureday        7      6        5\n",
       "Sunday           7      9        6\n",
       "Monday           7      5        8\n",
       "Thuseday         5      9        6\n",
       "Wednesday        7      6        5\n",
       "Thursday         5      8        5\n",
       "Friday           7      5        5"
      ]
     },
     "execution_count": 46,
     "metadata": {},
     "output_type": "execute_result"
    }
   ],
   "source": [
    "Sales=pd.DataFrame(numberOFsale, index=[\"Satureday\", \"Sunday\", \"Monday\", \"Thuseday\",\"Wednesday\",\"Thursday\",\"Friday\"], columns=[\"shalvar\", \"Shirt\",\"T_shirt\"])\n",
    "Sales"
   ]
  },
  {
   "cell_type": "code",
   "execution_count": 47,
   "id": "38a9ccc2",
   "metadata": {},
   "outputs": [
    {
     "data": {
      "text/html": [
       "<div>\n",
       "<style scoped>\n",
       "    .dataframe tbody tr th:only-of-type {\n",
       "        vertical-align: middle;\n",
       "    }\n",
       "\n",
       "    .dataframe tbody tr th {\n",
       "        vertical-align: top;\n",
       "    }\n",
       "\n",
       "    .dataframe thead th {\n",
       "        text-align: right;\n",
       "    }\n",
       "</style>\n",
       "<table border=\"1\" class=\"dataframe\">\n",
       "  <thead>\n",
       "    <tr style=\"text-align: right;\">\n",
       "      <th></th>\n",
       "      <th>shalvar</th>\n",
       "      <th>Shirt</th>\n",
       "      <th>T_shirt</th>\n",
       "    </tr>\n",
       "  </thead>\n",
       "  <tbody>\n",
       "    <tr>\n",
       "      <th>Price</th>\n",
       "      <td>150</td>\n",
       "      <td>300</td>\n",
       "      <td>90</td>\n",
       "    </tr>\n",
       "  </tbody>\n",
       "</table>\n",
       "</div>"
      ],
      "text/plain": [
       "       shalvar  Shirt  T_shirt\n",
       "Price      150    300       90"
      ]
     },
     "execution_count": 47,
     "metadata": {},
     "output_type": "execute_result"
    }
   ],
   "source": [
    "Cloth_Price = pd.DataFrame(Price, index=[\"Price\"], columns=[\"shalvar\", \"Shirt\",\"T_shirt\"])\n",
    "Cloth_Price"
   ]
  },
  {
   "cell_type": "code",
   "execution_count": 50,
   "id": "dc2aa1e6",
   "metadata": {},
   "outputs": [
    {
     "data": {
      "text/html": [
       "<div>\n",
       "<style scoped>\n",
       "    .dataframe tbody tr th:only-of-type {\n",
       "        vertical-align: middle;\n",
       "    }\n",
       "\n",
       "    .dataframe tbody tr th {\n",
       "        vertical-align: top;\n",
       "    }\n",
       "\n",
       "    .dataframe thead th {\n",
       "        text-align: right;\n",
       "    }\n",
       "</style>\n",
       "<table border=\"1\" class=\"dataframe\">\n",
       "  <thead>\n",
       "    <tr style=\"text-align: right;\">\n",
       "      <th></th>\n",
       "      <th>Satureday</th>\n",
       "      <th>Sunday</th>\n",
       "      <th>Monday</th>\n",
       "      <th>Thuseday</th>\n",
       "      <th>Wednesday</th>\n",
       "      <th>Thursday</th>\n",
       "      <th>Friday</th>\n",
       "    </tr>\n",
       "  </thead>\n",
       "  <tbody>\n",
       "    <tr>\n",
       "      <th>Price</th>\n",
       "      <td>3300</td>\n",
       "      <td>4290</td>\n",
       "      <td>3270</td>\n",
       "      <td>3990</td>\n",
       "      <td>3300</td>\n",
       "      <td>3600</td>\n",
       "      <td>3000</td>\n",
       "    </tr>\n",
       "  </tbody>\n",
       "</table>\n",
       "</div>"
      ],
      "text/plain": [
       "       Satureday  Sunday  Monday  Thuseday  Wednesday  Thursday  Friday\n",
       "Price       3300    4290    3270      3990       3300      3600    3000"
      ]
     },
     "execution_count": 50,
     "metadata": {},
     "output_type": "execute_result"
    }
   ],
   "source": [
    "Advantage = Cloth_Price.dot(Sales.T)\n",
    "Advantage"
   ]
  },
  {
   "cell_type": "code",
   "execution_count": 53,
   "id": "71a21809",
   "metadata": {},
   "outputs": [
    {
     "data": {
      "text/html": [
       "<div>\n",
       "<style scoped>\n",
       "    .dataframe tbody tr th:only-of-type {\n",
       "        vertical-align: middle;\n",
       "    }\n",
       "\n",
       "    .dataframe tbody tr th {\n",
       "        vertical-align: top;\n",
       "    }\n",
       "\n",
       "    .dataframe thead th {\n",
       "        text-align: right;\n",
       "    }\n",
       "</style>\n",
       "<table border=\"1\" class=\"dataframe\">\n",
       "  <thead>\n",
       "    <tr style=\"text-align: right;\">\n",
       "      <th></th>\n",
       "      <th>shalvar</th>\n",
       "      <th>Shirt</th>\n",
       "      <th>T_shirt</th>\n",
       "      <th>Total Advantage</th>\n",
       "    </tr>\n",
       "  </thead>\n",
       "  <tbody>\n",
       "    <tr>\n",
       "      <th>Satureday</th>\n",
       "      <td>7</td>\n",
       "      <td>6</td>\n",
       "      <td>5</td>\n",
       "      <td>3300</td>\n",
       "    </tr>\n",
       "    <tr>\n",
       "      <th>Sunday</th>\n",
       "      <td>7</td>\n",
       "      <td>9</td>\n",
       "      <td>6</td>\n",
       "      <td>4290</td>\n",
       "    </tr>\n",
       "    <tr>\n",
       "      <th>Monday</th>\n",
       "      <td>7</td>\n",
       "      <td>5</td>\n",
       "      <td>8</td>\n",
       "      <td>3270</td>\n",
       "    </tr>\n",
       "    <tr>\n",
       "      <th>Thuseday</th>\n",
       "      <td>5</td>\n",
       "      <td>9</td>\n",
       "      <td>6</td>\n",
       "      <td>3990</td>\n",
       "    </tr>\n",
       "    <tr>\n",
       "      <th>Wednesday</th>\n",
       "      <td>7</td>\n",
       "      <td>6</td>\n",
       "      <td>5</td>\n",
       "      <td>3300</td>\n",
       "    </tr>\n",
       "    <tr>\n",
       "      <th>Thursday</th>\n",
       "      <td>5</td>\n",
       "      <td>8</td>\n",
       "      <td>5</td>\n",
       "      <td>3600</td>\n",
       "    </tr>\n",
       "    <tr>\n",
       "      <th>Friday</th>\n",
       "      <td>7</td>\n",
       "      <td>5</td>\n",
       "      <td>5</td>\n",
       "      <td>3000</td>\n",
       "    </tr>\n",
       "  </tbody>\n",
       "</table>\n",
       "</div>"
      ],
      "text/plain": [
       "           shalvar  Shirt  T_shirt  Total Advantage\n",
       "Satureday        7      6        5             3300\n",
       "Sunday           7      9        6             4290\n",
       "Monday           7      5        8             3270\n",
       "Thuseday         5      9        6             3990\n",
       "Wednesday        7      6        5             3300\n",
       "Thursday         5      8        5             3600\n",
       "Friday           7      5        5             3000"
      ]
     },
     "execution_count": 53,
     "metadata": {},
     "output_type": "execute_result"
    }
   ],
   "source": [
    "Sales[\"Total Advantage\"] = Advantage.T\n",
    "Sales"
   ]
  },
  {
   "cell_type": "code",
   "execution_count": 57,
   "id": "676ceb51",
   "metadata": {},
   "outputs": [
    {
     "data": {
      "text/plain": [
       "array([[[ 1,  2,  3,  4],\n",
       "        [ 5,  6,  7,  8],\n",
       "        [ 9, 10, 11, 12]],\n",
       "\n",
       "       [[13, 14, 15, 16],\n",
       "        [17, 18, 19, 20],\n",
       "        [21, 22, 23, 24]]])"
      ]
     },
     "execution_count": 57,
     "metadata": {},
     "output_type": "execute_result"
    }
   ],
   "source": [
    "c1 = np.arange(1, 25).reshape(2, 3, 4)\n",
    "c1"
   ]
  },
  {
   "cell_type": "code",
   "execution_count": 58,
   "id": "fb18d04b",
   "metadata": {},
   "outputs": [
    {
     "data": {
      "text/plain": [
       "array([[[ 1,  2,  3,  4],\n",
       "        [ 5,  6,  7,  8],\n",
       "        [ 9, 10, 11, 12]],\n",
       "\n",
       "       [[13, 14, 15, 16],\n",
       "        [17, 18, 19, 20],\n",
       "        [21, 22, 23, 24]]])"
      ]
     },
     "execution_count": 58,
     "metadata": {},
     "output_type": "execute_result"
    }
   ],
   "source": [
    "c2 = c1\n",
    "c2"
   ]
  },
  {
   "cell_type": "code",
   "execution_count": 59,
   "id": "5e5f1b21",
   "metadata": {},
   "outputs": [
    {
     "data": {
      "text/plain": [
       "array([[[ True,  True,  True,  True],\n",
       "        [ True,  True,  True,  True],\n",
       "        [ True,  True,  True,  True]],\n",
       "\n",
       "       [[ True,  True,  True,  True],\n",
       "        [ True,  True,  True,  True],\n",
       "        [ True,  True,  True,  True]]])"
      ]
     },
     "execution_count": 59,
     "metadata": {},
     "output_type": "execute_result"
    }
   ],
   "source": [
    "c2 == c1"
   ]
  },
  {
   "cell_type": "code",
   "execution_count": 60,
   "id": "958bd0dc",
   "metadata": {},
   "outputs": [
    {
     "data": {
      "text/plain": [
       "True"
      ]
     },
     "execution_count": 60,
     "metadata": {},
     "output_type": "execute_result"
    }
   ],
   "source": [
    "c2 is c1"
   ]
  },
  {
   "cell_type": "code",
   "execution_count": 61,
   "id": "4960f932",
   "metadata": {},
   "outputs": [
    {
     "data": {
      "text/plain": [
       "(1815936245264, 1815936245264)"
      ]
     },
     "execution_count": 61,
     "metadata": {},
     "output_type": "execute_result"
    }
   ],
   "source": [
    "id(c2), id(c1)"
   ]
  },
  {
   "cell_type": "code",
   "execution_count": 65,
   "id": "6f68d98f",
   "metadata": {},
   "outputs": [
    {
     "data": {
      "text/plain": [
       "array([[[  1,   2,   3,   4],\n",
       "        [  5,   6,   7,   8],\n",
       "        [  9,  10,  11,  12]],\n",
       "\n",
       "       [[999,  14,  15,  16],\n",
       "        [ 17,  18,  19,  20],\n",
       "        [ 21,  22,  23,  24]]])"
      ]
     },
     "execution_count": 65,
     "metadata": {},
     "output_type": "execute_result"
    }
   ],
   "source": [
    "c1[1, 0, 0] = 999\n",
    "c1"
   ]
  },
  {
   "cell_type": "code",
   "execution_count": 66,
   "id": "f29f00a8",
   "metadata": {},
   "outputs": [
    {
     "data": {
      "text/plain": [
       "array([[[  1,   2,   3,   4],\n",
       "        [  5,   6,   7,   8],\n",
       "        [  9,  10,  11,  12]],\n",
       "\n",
       "       [[999,  14,  15,  16],\n",
       "        [ 17,  18,  19,  20],\n",
       "        [ 21,  22,  23,  24]]])"
      ]
     },
     "execution_count": 66,
     "metadata": {},
     "output_type": "execute_result"
    }
   ],
   "source": [
    "c2"
   ]
  },
  {
   "cell_type": "code",
   "execution_count": 67,
   "id": "6b4ddc78",
   "metadata": {},
   "outputs": [
    {
     "data": {
      "text/plain": [
       "array([[[  1,   2,   3,   4],\n",
       "        [  5,   6,   7,   8],\n",
       "        [  9,  10,  11,  12]],\n",
       "\n",
       "       [[999,  14,  15,  16],\n",
       "        [ 17,  18,  19,  20],\n",
       "        [ 21,  22,  23,  24]]])"
      ]
     },
     "execution_count": 67,
     "metadata": {},
     "output_type": "execute_result"
    }
   ],
   "source": [
    "#shadow_copy\n",
    "c3 = c1.view()\n",
    "c3"
   ]
  },
  {
   "cell_type": "code",
   "execution_count": 68,
   "id": "080e906b",
   "metadata": {},
   "outputs": [
    {
     "data": {
      "text/plain": [
       "array([[[999,   2,   3,   4],\n",
       "        [  5,   6,   7,   8],\n",
       "        [  9,  10,  11,  12]],\n",
       "\n",
       "       [[999,  14,  15,  16],\n",
       "        [ 17,  18,  19,  20],\n",
       "        [ 21,  22,  23,  24]]])"
      ]
     },
     "execution_count": 68,
     "metadata": {},
     "output_type": "execute_result"
    }
   ],
   "source": [
    "c1[0, 0, 0] = 999\n",
    "c1"
   ]
  },
  {
   "cell_type": "code",
   "execution_count": 69,
   "id": "7d0e1515",
   "metadata": {},
   "outputs": [
    {
     "data": {
      "text/plain": [
       "array([[[999,   2,   3,   4],\n",
       "        [  5,   6,   7,   8],\n",
       "        [  9,  10,  11,  12]],\n",
       "\n",
       "       [[999,  14,  15,  16],\n",
       "        [ 17,  18,  19,  20],\n",
       "        [ 21,  22,  23,  24]]])"
      ]
     },
     "execution_count": 69,
     "metadata": {},
     "output_type": "execute_result"
    }
   ],
   "source": [
    "c3"
   ]
  },
  {
   "cell_type": "code",
   "execution_count": 70,
   "id": "839cccb8",
   "metadata": {},
   "outputs": [
    {
     "data": {
      "text/plain": [
       "array([[[ True,  True,  True,  True],\n",
       "        [ True,  True,  True,  True],\n",
       "        [ True,  True,  True,  True]],\n",
       "\n",
       "       [[ True,  True,  True,  True],\n",
       "        [ True,  True,  True,  True],\n",
       "        [ True,  True,  True,  True]]])"
      ]
     },
     "execution_count": 70,
     "metadata": {},
     "output_type": "execute_result"
    }
   ],
   "source": [
    "c3 == c1"
   ]
  },
  {
   "cell_type": "code",
   "execution_count": 71,
   "id": "1d681ce1",
   "metadata": {},
   "outputs": [
    {
     "data": {
      "text/plain": [
       "False"
      ]
     },
     "execution_count": 71,
     "metadata": {},
     "output_type": "execute_result"
    }
   ],
   "source": [
    "c3 is c1"
   ]
  },
  {
   "cell_type": "code",
   "execution_count": 72,
   "id": "183a95b6",
   "metadata": {},
   "outputs": [
    {
     "data": {
      "text/plain": [
       "(1815936245264, 1815936131792)"
      ]
     },
     "execution_count": 72,
     "metadata": {},
     "output_type": "execute_result"
    }
   ],
   "source": [
    "id(c1), id(c3)"
   ]
  },
  {
   "cell_type": "code",
   "execution_count": 73,
   "id": "e3bd0de8",
   "metadata": {},
   "outputs": [
    {
     "data": {
      "text/plain": [
       "array([[[999,   2,   3,   4],\n",
       "        [  5,   6,   7,   8],\n",
       "        [  9,  10,  11,  12]],\n",
       "\n",
       "       [[999,  14,  15,  16],\n",
       "        [ 17,  18,  19,  20],\n",
       "        [ 21,  22,  23,  24]]])"
      ]
     },
     "execution_count": 73,
     "metadata": {},
     "output_type": "execute_result"
    }
   ],
   "source": [
    "#Deep_copy\n",
    "c4 = np.copy(c1)\n",
    "c4"
   ]
  },
  {
   "cell_type": "code",
   "execution_count": 74,
   "id": "8ccaf350",
   "metadata": {},
   "outputs": [
    {
     "data": {
      "text/plain": [
       "array([[[ True,  True,  True,  True],\n",
       "        [ True,  True,  True,  True],\n",
       "        [ True,  True,  True,  True]],\n",
       "\n",
       "       [[ True,  True,  True,  True],\n",
       "        [ True,  True,  True,  True],\n",
       "        [ True,  True,  True,  True]]])"
      ]
     },
     "execution_count": 74,
     "metadata": {},
     "output_type": "execute_result"
    }
   ],
   "source": [
    "c4 == c1"
   ]
  },
  {
   "cell_type": "code",
   "execution_count": 75,
   "id": "e87dd7e1",
   "metadata": {},
   "outputs": [
    {
     "data": {
      "text/plain": [
       "False"
      ]
     },
     "execution_count": 75,
     "metadata": {},
     "output_type": "execute_result"
    }
   ],
   "source": [
    "c4 is c1"
   ]
  },
  {
   "cell_type": "code",
   "execution_count": 77,
   "id": "e8b4da46",
   "metadata": {},
   "outputs": [
    {
     "data": {
      "text/plain": [
       "array([[[999, 999,   3,   4],\n",
       "        [  5,   6,   7,   8],\n",
       "        [  9,  10,  11,  12]],\n",
       "\n",
       "       [[999,  14,  15,  16],\n",
       "        [ 17,  18,  19,  20],\n",
       "        [ 21,  22,  23,  24]]])"
      ]
     },
     "execution_count": 77,
     "metadata": {},
     "output_type": "execute_result"
    }
   ],
   "source": [
    "c4[0, 0, 1] = 999\n",
    "c4"
   ]
  },
  {
   "cell_type": "code",
   "execution_count": 78,
   "id": "ed0d2070",
   "metadata": {},
   "outputs": [
    {
     "data": {
      "text/plain": [
       "array([[[999,   2,   3,   4],\n",
       "        [  5,   6,   7,   8],\n",
       "        [  9,  10,  11,  12]],\n",
       "\n",
       "       [[999,  14,  15,  16],\n",
       "        [ 17,  18,  19,  20],\n",
       "        [ 21,  22,  23,  24]]])"
      ]
     },
     "execution_count": 78,
     "metadata": {},
     "output_type": "execute_result"
    }
   ],
   "source": [
    "c1"
   ]
  },
  {
   "cell_type": "code",
   "execution_count": 79,
   "id": "ad70ed01",
   "metadata": {},
   "outputs": [
    {
     "data": {
      "text/plain": [
       "array([[[999, 999,   3,   4],\n",
       "        [  5,   6,   7,   8],\n",
       "        [  9,  10,  11,  12]],\n",
       "\n",
       "       [[999,  14,  15,  16],\n",
       "        [ 17,  18,  19,  20],\n",
       "        [ 21,  22,  23,  24]]])"
      ]
     },
     "execution_count": 79,
     "metadata": {},
     "output_type": "execute_result"
    }
   ],
   "source": [
    "c3[0, 0, 1]=999\n",
    "c3"
   ]
  },
  {
   "cell_type": "code",
   "execution_count": 80,
   "id": "1c4a4535",
   "metadata": {},
   "outputs": [
    {
     "data": {
      "text/plain": [
       "array([[[999, 999,   3,   4],\n",
       "        [  5,   6,   7,   8],\n",
       "        [  9,  10,  11,  12]],\n",
       "\n",
       "       [[999,  14,  15,  16],\n",
       "        [ 17,  18,  19,  20],\n",
       "        [ 21,  22,  23,  24]]])"
      ]
     },
     "execution_count": 80,
     "metadata": {},
     "output_type": "execute_result"
    }
   ],
   "source": [
    "c1"
   ]
  },
  {
   "cell_type": "code",
   "execution_count": 81,
   "id": "cf34bb55",
   "metadata": {},
   "outputs": [
    {
     "data": {
      "text/plain": [
       "array([ 0,  1,  2,  3,  4,  5,  6,  7,  8,  9, 10, 11, 12, 13, 14, 15, 16,\n",
       "       17, 18, 19, 20, 21, 22, 23])"
      ]
     },
     "execution_count": 81,
     "metadata": {},
     "output_type": "execute_result"
    }
   ],
   "source": [
    "d = np.arange(24)\n",
    "d"
   ]
  },
  {
   "cell_type": "code",
   "execution_count": 82,
   "id": "941c3cf2",
   "metadata": {},
   "outputs": [
    {
     "data": {
      "text/plain": [
       "array([[[ 0,  1,  2,  3],\n",
       "        [ 4,  5,  6,  7],\n",
       "        [ 8,  9, 10, 11]],\n",
       "\n",
       "       [[12, 13, 14, 15],\n",
       "        [16, 17, 18, 19],\n",
       "        [20, 21, 22, 23]]])"
      ]
     },
     "execution_count": 82,
     "metadata": {},
     "output_type": "execute_result"
    }
   ],
   "source": [
    "d.shape=(2, 3, 4)\n",
    "d"
   ]
  },
  {
   "cell_type": "code",
   "execution_count": 83,
   "id": "11eb2578",
   "metadata": {},
   "outputs": [
    {
     "data": {
      "text/plain": [
       "array([[ 0,  1,  2,  3,  4,  5,  6,  7,  8,  9, 10, 11],\n",
       "       [12, 13, 14, 15, 16, 17, 18, 19, 20, 21, 22, 23]])"
      ]
     },
     "execution_count": 83,
     "metadata": {},
     "output_type": "execute_result"
    }
   ],
   "source": [
    "d_reshape= d.reshape((2, 12))\n",
    "d_reshape"
   ]
  },
  {
   "cell_type": "code",
   "execution_count": 84,
   "id": "eaa76715",
   "metadata": {},
   "outputs": [
    {
     "data": {
      "text/plain": [
       "array([[[ 0,  1,  2,  3],\n",
       "        [ 4,  5,  6,  7],\n",
       "        [ 8,  9, 10, 11]],\n",
       "\n",
       "       [[12, 13, 14, 15],\n",
       "        [16, 17, 18, 19],\n",
       "        [20, 21, 22, 23]]])"
      ]
     },
     "execution_count": 84,
     "metadata": {},
     "output_type": "execute_result"
    }
   ],
   "source": [
    "d"
   ]
  },
  {
   "cell_type": "code",
   "execution_count": 86,
   "id": "9e75447b",
   "metadata": {},
   "outputs": [
    {
     "data": {
      "text/plain": [
       "array([[999,   1,   2,   3,   4,   5,   6,   7,   8,   9,  10,  11],\n",
       "       [ 12,  13,  14,  15,  16,  17,  18,  19,  20,  21,  22,  23]])"
      ]
     },
     "execution_count": 86,
     "metadata": {},
     "output_type": "execute_result"
    }
   ],
   "source": [
    "d_reshape[0, 0] = 999\n",
    "d_reshape"
   ]
  },
  {
   "cell_type": "code",
   "execution_count": 87,
   "id": "d1731a00",
   "metadata": {},
   "outputs": [
    {
     "data": {
      "text/plain": [
       "array([[[999,   1,   2,   3],\n",
       "        [  4,   5,   6,   7],\n",
       "        [  8,   9,  10,  11]],\n",
       "\n",
       "       [[ 12,  13,  14,  15],\n",
       "        [ 16,  17,  18,  19],\n",
       "        [ 20,  21,  22,  23]]])"
      ]
     },
     "execution_count": 87,
     "metadata": {},
     "output_type": "execute_result"
    }
   ],
   "source": [
    "d"
   ]
  },
  {
   "cell_type": "code",
   "execution_count": 88,
   "id": "133ce5de",
   "metadata": {},
   "outputs": [
    {
     "data": {
      "text/plain": [
       "False"
      ]
     },
     "execution_count": 88,
     "metadata": {},
     "output_type": "execute_result"
    }
   ],
   "source": [
    "d is d_reshape"
   ]
  },
  {
   "cell_type": "code",
   "execution_count": 89,
   "id": "e46ed514",
   "metadata": {},
   "outputs": [],
   "source": [
    "#flatten\n",
    "#ravel"
   ]
  },
  {
   "cell_type": "code",
   "execution_count": 90,
   "id": "01db93dd",
   "metadata": {},
   "outputs": [
    {
     "data": {
      "text/plain": [
       "array([0, 1, 2, 3, 4, 5, 6, 7, 8, 9])"
      ]
     },
     "execution_count": 90,
     "metadata": {},
     "output_type": "execute_result"
    }
   ],
   "source": [
    "f = np.arange(10)\n",
    "f"
   ]
  },
  {
   "cell_type": "code",
   "execution_count": 92,
   "id": "3011efa8",
   "metadata": {},
   "outputs": [
    {
     "data": {
      "text/plain": [
       "array([ 0,  1,  2,  3,  4,  5,  6,  7,  8,  9, 10, 11])"
      ]
     },
     "execution_count": 92,
     "metadata": {},
     "output_type": "execute_result"
    }
   ],
   "source": [
    "g = np.append(f, [10, 11])\n",
    "g"
   ]
  },
  {
   "cell_type": "code",
   "execution_count": 93,
   "id": "0757f08b",
   "metadata": {},
   "outputs": [
    {
     "data": {
      "text/plain": [
       "array([[[62, 19, 91, 36],\n",
       "        [61, 81, 87, 28],\n",
       "        [28,  7, 81, 45]],\n",
       "\n",
       "       [[45, 10, 86, 73],\n",
       "        [28, 54, 57, 33],\n",
       "        [88, 18, 22, 72]]])"
      ]
     },
     "execution_count": 93,
     "metadata": {},
     "output_type": "execute_result"
    }
   ],
   "source": [
    "h = np.random.randint(1, 99, size=24).reshape(2, 3, 4)\n",
    "h"
   ]
  },
  {
   "cell_type": "code",
   "execution_count": 94,
   "id": "9b796cfb",
   "metadata": {},
   "outputs": [
    {
     "data": {
      "text/plain": [
       "array([[[53, 95, 75,  1],\n",
       "        [ 5, 26, 84, 82],\n",
       "        [57, 11, 33, 92]],\n",
       "\n",
       "       [[11, 67, 88, 98],\n",
       "        [93, 50, 45, 39],\n",
       "        [33, 21, 91, 28]]])"
      ]
     },
     "execution_count": 94,
     "metadata": {},
     "output_type": "execute_result"
    }
   ],
   "source": [
    "k = np.random.randint(1, 99, size=24).reshape(2, 3, 4)\n",
    "k"
   ]
  },
  {
   "cell_type": "code",
   "execution_count": 103,
   "id": "754d04d4",
   "metadata": {},
   "outputs": [
    {
     "data": {
      "text/plain": [
       "array([62, 19, 91, 36, 61, 81, 87, 28, 28,  7, 81, 45, 45, 10, 86, 73, 28,\n",
       "       54, 57, 33, 88, 18, 22, 72, 53, 95, 75,  1,  5, 26, 84, 82, 57, 11,\n",
       "       33, 92, 11, 67, 88, 98, 93, 50, 45, 39, 33, 21, 91, 28])"
      ]
     },
     "execution_count": 103,
     "metadata": {},
     "output_type": "execute_result"
    }
   ],
   "source": [
    "hk = np.append(h, k)\n",
    "hk"
   ]
  },
  {
   "cell_type": "code",
   "execution_count": 109,
   "id": "9c4d8dd6",
   "metadata": {
    "scrolled": true
   },
   "outputs": [
    {
     "data": {
      "text/plain": [
       "array([[[62, 19, 91, 36],\n",
       "        [61, 81, 87, 28],\n",
       "        [28,  7, 81, 45]],\n",
       "\n",
       "       [[45, 10, 86, 73],\n",
       "        [28, 54, 57, 33],\n",
       "        [88, 18, 22, 72]],\n",
       "\n",
       "       [[53, 95, 75,  1],\n",
       "        [ 5, 26, 84, 82],\n",
       "        [57, 11, 33, 92]],\n",
       "\n",
       "       [[11, 67, 88, 98],\n",
       "        [93, 50, 45, 39],\n",
       "        [33, 21, 91, 28]]])"
      ]
     },
     "execution_count": 109,
     "metadata": {},
     "output_type": "execute_result"
    }
   ],
   "source": [
    "hk0 = np.append(h, k, axis=0)\n",
    "hk0"
   ]
  },
  {
   "cell_type": "code",
   "execution_count": 108,
   "id": "a8effa6e",
   "metadata": {},
   "outputs": [
    {
     "data": {
      "text/plain": [
       "(4, 3, 4)"
      ]
     },
     "execution_count": 108,
     "metadata": {},
     "output_type": "execute_result"
    }
   ],
   "source": [
    "hk0.shape"
   ]
  },
  {
   "cell_type": "code",
   "execution_count": 107,
   "id": "1afd79e0",
   "metadata": {},
   "outputs": [
    {
     "data": {
      "text/plain": [
       "array([[[62, 19, 91, 36],\n",
       "        [61, 81, 87, 28],\n",
       "        [28,  7, 81, 45],\n",
       "        [53, 95, 75,  1],\n",
       "        [ 5, 26, 84, 82],\n",
       "        [57, 11, 33, 92]],\n",
       "\n",
       "       [[45, 10, 86, 73],\n",
       "        [28, 54, 57, 33],\n",
       "        [88, 18, 22, 72],\n",
       "        [11, 67, 88, 98],\n",
       "        [93, 50, 45, 39],\n",
       "        [33, 21, 91, 28]]])"
      ]
     },
     "execution_count": 107,
     "metadata": {},
     "output_type": "execute_result"
    }
   ],
   "source": [
    "hk1 = np.append(h, k, axis=1)\n",
    "hk1"
   ]
  },
  {
   "cell_type": "code",
   "execution_count": 106,
   "id": "b5eebc85",
   "metadata": {},
   "outputs": [
    {
     "data": {
      "text/plain": [
       "(2, 6, 4)"
      ]
     },
     "execution_count": 106,
     "metadata": {},
     "output_type": "execute_result"
    }
   ],
   "source": [
    "hk1.shape"
   ]
  },
  {
   "cell_type": "code",
   "execution_count": 101,
   "id": "c4d57d4b",
   "metadata": {},
   "outputs": [
    {
     "data": {
      "text/plain": [
       "array([[[62, 19, 91, 36, 53, 95, 75,  1],\n",
       "        [61, 81, 87, 28,  5, 26, 84, 82],\n",
       "        [28,  7, 81, 45, 57, 11, 33, 92]],\n",
       "\n",
       "       [[45, 10, 86, 73, 11, 67, 88, 98],\n",
       "        [28, 54, 57, 33, 93, 50, 45, 39],\n",
       "        [88, 18, 22, 72, 33, 21, 91, 28]]])"
      ]
     },
     "execution_count": 101,
     "metadata": {},
     "output_type": "execute_result"
    }
   ],
   "source": [
    "hk2 = np.append(h, k, axis=2)\n",
    "hk2"
   ]
  },
  {
   "cell_type": "code",
   "execution_count": 110,
   "id": "4f5e618e",
   "metadata": {},
   "outputs": [
    {
     "data": {
      "text/plain": [
       "(2, 3, 8)"
      ]
     },
     "execution_count": 110,
     "metadata": {},
     "output_type": "execute_result"
    }
   ],
   "source": [
    "hk2.shape"
   ]
  },
  {
   "cell_type": "code",
   "execution_count": 111,
   "id": "eb34c01b",
   "metadata": {},
   "outputs": [
    {
     "data": {
      "text/plain": [
       "array([[[62, 19, 91, 36],\n",
       "        [61, 81, 87, 28],\n",
       "        [28,  7, 81, 45]],\n",
       "\n",
       "       [[45, 10, 86, 73],\n",
       "        [28, 54, 57, 33],\n",
       "        [88, 18, 22, 72]]])"
      ]
     },
     "execution_count": 111,
     "metadata": {},
     "output_type": "execute_result"
    }
   ],
   "source": [
    "h"
   ]
  },
  {
   "cell_type": "code",
   "execution_count": 119,
   "id": "564016da",
   "metadata": {},
   "outputs": [
    {
     "data": {
      "text/plain": [
       "array([[[53, 95, 75,  1],\n",
       "        [ 5, 26, 84, 82],\n",
       "        [57, 11, 33, 92]],\n",
       "\n",
       "       [[11, 67, 88, 98],\n",
       "        [93, 50, 45, 39],\n",
       "        [33, 21, 91, 28]]])"
      ]
     },
     "execution_count": 119,
     "metadata": {},
     "output_type": "execute_result"
    }
   ],
   "source": [
    "k"
   ]
  },
  {
   "cell_type": "code",
   "execution_count": 113,
   "id": "d4595c33",
   "metadata": {},
   "outputs": [],
   "source": [
    "#insert\n",
    "#copyto\n",
    "#empty\n",
    "#POOOOOOOOOOOOOOOOOOOr karbord ****concatenate****"
   ]
  },
  {
   "cell_type": "code",
   "execution_count": 120,
   "id": "533273a1",
   "metadata": {},
   "outputs": [
    {
     "data": {
      "text/plain": [
       "array([[[95, 75,  1],\n",
       "        [26, 84, 82],\n",
       "        [11, 33, 92]],\n",
       "\n",
       "       [[67, 88, 98],\n",
       "        [50, 45, 39],\n",
       "        [21, 91, 28]]])"
      ]
     },
     "execution_count": 120,
     "metadata": {},
     "output_type": "execute_result"
    }
   ],
   "source": [
    "j1 = np.delete(k, 0, axis=2)\n",
    "j1"
   ]
  }
 ],
 "metadata": {
  "kernelspec": {
   "display_name": "Python 3 (ipykernel)",
   "language": "python",
   "name": "python3"
  },
  "language_info": {
   "codemirror_mode": {
    "name": "ipython",
    "version": 3
   },
   "file_extension": ".py",
   "mimetype": "text/x-python",
   "name": "python",
   "nbconvert_exporter": "python",
   "pygments_lexer": "ipython3",
   "version": "3.9.7"
  }
 },
 "nbformat": 4,
 "nbformat_minor": 5
}
