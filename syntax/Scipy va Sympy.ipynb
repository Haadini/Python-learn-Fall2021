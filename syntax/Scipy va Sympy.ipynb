{
 "cells": [
  {
   "cell_type": "code",
   "execution_count": 1,
   "id": "24290d08",
   "metadata": {},
   "outputs": [],
   "source": [
    "from sympy import *\n",
    "from scipy.stats import *\n",
    "import matplotlib.pyplot as plt\n",
    "import pandas as pd\n",
    "import numpy as np\n",
    "import seaborn as sns"
   ]
  },
  {
   "cell_type": "markdown",
   "id": "0091c23a",
   "metadata": {},
   "source": [
    "**Sympy : Symbolic Mathematics in Python**\n"
   ]
  },
  {
   "cell_type": "code",
   "execution_count": 2,
   "id": "60e4277b",
   "metadata": {},
   "outputs": [],
   "source": [
    "\"\"\"\n",
    "x = sym.Symbol (\"x\")\n",
    "y = sym.Symbol (\"y\")\n",
    "\"\"\"\n",
    "x = Symbol (\"x\")\n",
    "y = Symbol (\"y\")\n",
    "u = Symbol (\"u\")\n",
    "s = Symbol (\"s\")"
   ]
  },
  {
   "cell_type": "code",
   "execution_count": 3,
   "id": "9e31e101",
   "metadata": {},
   "outputs": [
    {
     "data": {
      "text/latex": [
       "$\\displaystyle x$"
      ],
      "text/plain": [
       "x"
      ]
     },
     "execution_count": 3,
     "metadata": {},
     "output_type": "execute_result"
    }
   ],
   "source": [
    "-x + y - y + 2 * x"
   ]
  },
  {
   "cell_type": "code",
   "execution_count": 4,
   "id": "d9ed094e",
   "metadata": {},
   "outputs": [
    {
     "data": {
      "text/latex": [
       "$\\displaystyle \\left(x + y\\right)^{2}$"
      ],
      "text/plain": [
       "(x + y)**2"
      ]
     },
     "execution_count": 4,
     "metadata": {},
     "output_type": "execute_result"
    }
   ],
   "source": [
    "(x + y)**2"
   ]
  },
  {
   "cell_type": "code",
   "execution_count": 5,
   "id": "526201d1",
   "metadata": {},
   "outputs": [
    {
     "data": {
      "text/latex": [
       "$\\displaystyle \\sin{\\left(x \\right)} + \\cos{\\left(y \\right)}$"
      ],
      "text/plain": [
       "sin(x) + cos(y)"
      ]
     },
     "execution_count": 5,
     "metadata": {},
     "output_type": "execute_result"
    }
   ],
   "source": [
    "sin(x) + cos(y)"
   ]
  },
  {
   "cell_type": "code",
   "execution_count": 6,
   "id": "a61a101e",
   "metadata": {},
   "outputs": [
    {
     "data": {
      "text/latex": [
       "$\\displaystyle x^{5} + 5 x^{4} y + 10 x^{3} y^{2} + 10 x^{2} y^{3} + 5 x y^{4} + y^{5}$"
      ],
      "text/plain": [
       "x**5 + 5*x**4*y + 10*x**3*y**2 + 10*x**2*y**3 + 5*x*y**4 + y**5"
      ]
     },
     "execution_count": 6,
     "metadata": {},
     "output_type": "execute_result"
    }
   ],
   "source": [
    "expand((x + y)**5)"
   ]
  },
  {
   "cell_type": "code",
   "execution_count": 7,
   "id": "a66d295b",
   "metadata": {},
   "outputs": [
    {
     "data": {
      "text/latex": [
       "$\\displaystyle \\operatorname{re}{\\left(x\\right)} + \\operatorname{re}{\\left(y\\right)} + i \\operatorname{im}{\\left(x\\right)} + i \\operatorname{im}{\\left(y\\right)}$"
      ],
      "text/plain": [
       "re(x) + re(y) + I*im(x) + I*im(y)"
      ]
     },
     "execution_count": 7,
     "metadata": {},
     "output_type": "execute_result"
    }
   ],
   "source": [
    "expand(x + y, complex= True)"
   ]
  },
  {
   "cell_type": "markdown",
   "id": "936611a2",
   "metadata": {},
   "source": [
    "**Use simplify if you would like to transform an expression into a simpler form:**"
   ]
  },
  {
   "cell_type": "code",
   "execution_count": 8,
   "id": "3110d26f",
   "metadata": {},
   "outputs": [
    {
     "data": {
      "text/latex": [
       "$\\displaystyle x + 1$"
      ],
      "text/plain": [
       "x + 1"
      ]
     },
     "execution_count": 8,
     "metadata": {},
     "output_type": "execute_result"
    }
   ],
   "source": [
    "simplify(((x**2)+x)/x)"
   ]
  },
  {
   "cell_type": "code",
   "execution_count": 9,
   "id": "1db3888f",
   "metadata": {},
   "outputs": [
    {
     "data": {
      "text/latex": [
       "$\\displaystyle y$"
      ],
      "text/plain": [
       "y"
      ]
     },
     "execution_count": 9,
     "metadata": {},
     "output_type": "execute_result"
    }
   ],
   "source": [
    "simplify((sqrt(y))**2)"
   ]
  },
  {
   "cell_type": "markdown",
   "id": "4ad779b3",
   "metadata": {},
   "source": [
    "__limit(function, variable, point)__"
   ]
  },
  {
   "cell_type": "code",
   "execution_count": 10,
   "id": "9fb3e9a8",
   "metadata": {},
   "outputs": [
    {
     "data": {
      "text/latex": [
       "$\\displaystyle 0$"
      ],
      "text/plain": [
       "0"
      ]
     },
     "execution_count": 10,
     "metadata": {},
     "output_type": "execute_result"
    }
   ],
   "source": [
    "limit(x, x, 0)"
   ]
  },
  {
   "cell_type": "code",
   "execution_count": 11,
   "id": "cbb6614e",
   "metadata": {},
   "outputs": [
    {
     "data": {
      "text/latex": [
       "$\\displaystyle \\infty$"
      ],
      "text/plain": [
       "oo"
      ]
     },
     "execution_count": 11,
     "metadata": {},
     "output_type": "execute_result"
    }
   ],
   "source": [
    "limit(x, x, oo)"
   ]
  },
  {
   "cell_type": "code",
   "execution_count": 12,
   "id": "ba14149f",
   "metadata": {},
   "outputs": [
    {
     "data": {
      "text/latex": [
       "$\\displaystyle 1$"
      ],
      "text/plain": [
       "1"
      ]
     },
     "execution_count": 12,
     "metadata": {},
     "output_type": "execute_result"
    }
   ],
   "source": [
    "limit(sin(x) / x, x, 0)"
   ]
  },
  {
   "cell_type": "code",
   "execution_count": 13,
   "id": "169739b8",
   "metadata": {},
   "outputs": [
    {
     "data": {
      "text/latex": [
       "$\\displaystyle 0$"
      ],
      "text/plain": [
       "0"
      ]
     },
     "execution_count": 13,
     "metadata": {},
     "output_type": "execute_result"
    }
   ],
   "source": [
    "limit(1/x, x, oo)"
   ]
  },
  {
   "cell_type": "code",
   "execution_count": 14,
   "id": "19a1910e",
   "metadata": {
    "scrolled": true
   },
   "outputs": [
    {
     "data": {
      "text/latex": [
       "$\\displaystyle \\left[\\begin{matrix}x^{2} & y\\\\x & \\frac{1}{y}\\end{matrix}\\right]$"
      ],
      "text/plain": [
       "Matrix([\n",
       "[x**2,   y],\n",
       "[   x, 1/y]])"
      ]
     },
     "execution_count": 14,
     "metadata": {},
     "output_type": "execute_result"
    }
   ],
   "source": [
    "Matrix([[x**2, y], [x, 1/y]])"
   ]
  },
  {
   "cell_type": "markdown",
   "id": "8dbd1c84",
   "metadata": {},
   "source": [
    "**diff(func, var, n)**"
   ]
  },
  {
   "cell_type": "code",
   "execution_count": 15,
   "id": "cabb834b",
   "metadata": {},
   "outputs": [
    {
     "data": {
      "text/latex": [
       "$\\displaystyle 3 \\cos{\\left(3 x \\right)}$"
      ],
      "text/plain": [
       "3*cos(3*x)"
      ]
     },
     "execution_count": 15,
     "metadata": {},
     "output_type": "execute_result"
    }
   ],
   "source": [
    "diff(sin(3 * x), x)"
   ]
  },
  {
   "cell_type": "code",
   "execution_count": 16,
   "id": "eecc0399",
   "metadata": {},
   "outputs": [
    {
     "data": {
      "text/latex": [
       "$\\displaystyle 81 \\sin{\\left(3 x \\right)}$"
      ],
      "text/plain": [
       "81*sin(3*x)"
      ]
     },
     "execution_count": 16,
     "metadata": {},
     "output_type": "execute_result"
    }
   ],
   "source": [
    "diff(sin(3 * x), x, 4)"
   ]
  },
  {
   "cell_type": "code",
   "execution_count": 17,
   "id": "c0998176",
   "metadata": {},
   "outputs": [
    {
     "data": {
      "text/latex": [
       "$\\displaystyle - \\frac{0.25 \\sqrt{2} \\left(- 2 u + 2 x\\right) e^{- \\frac{0.5 \\left(- u + x\\right)^{2}}{s^{2}}}}{\\sqrt{\\pi} s^{3}}$"
      ],
      "text/plain": [
       "-0.25*sqrt(2)*(-2*u + 2*x)*exp(-0.5*(-u + x)**2/s**2)/(sqrt(pi)*s**3)"
      ]
     },
     "execution_count": 17,
     "metadata": {},
     "output_type": "execute_result"
    }
   ],
   "source": [
    "diff((1/(sqrt(2 * pi) * s)) * exp(-0.5 * ((x-u) / s)**2), x)"
   ]
  },
  {
   "cell_type": "markdown",
   "id": "5c14788a",
   "metadata": {},
   "source": [
    "**integrate()**"
   ]
  },
  {
   "cell_type": "code",
   "execution_count": 18,
   "id": "0dc04699",
   "metadata": {},
   "outputs": [
    {
     "data": {
      "text/latex": [
       "$\\displaystyle \\frac{x^{3}}{3}$"
      ],
      "text/plain": [
       "x**3/3"
      ]
     },
     "execution_count": 18,
     "metadata": {},
     "output_type": "execute_result"
    }
   ],
   "source": [
    "integrate(x**2, (x))"
   ]
  },
  {
   "cell_type": "code",
   "execution_count": 19,
   "id": "a91c1b4b",
   "metadata": {},
   "outputs": [
    {
     "data": {
      "text/latex": [
       "$\\displaystyle 0$"
      ],
      "text/plain": [
       "0"
      ]
     },
     "execution_count": 19,
     "metadata": {},
     "output_type": "execute_result"
    }
   ],
   "source": [
    "integrate(x**3, (x, -1, 1))"
   ]
  },
  {
   "cell_type": "code",
   "execution_count": 20,
   "id": "9465f2af",
   "metadata": {},
   "outputs": [
    {
     "data": {
      "text/latex": [
       "$\\displaystyle 0.353553390593274 \\sqrt{2} \\operatorname{erf}{\\left(\\frac{0.707106781186548 \\left(- u + x\\right)}{s} \\right)}$"
      ],
      "text/plain": [
       "0.353553390593274*sqrt(2)*erf(0.707106781186548*(-u + x)/s)"
      ]
     },
     "execution_count": 20,
     "metadata": {},
     "output_type": "execute_result"
    }
   ],
   "source": [
    "integrate((1/(sqrt(2 * pi) * s)) * exp(-0.5 * ((x-u) / s)**2), x)"
   ]
  },
  {
   "cell_type": "code",
   "execution_count": 21,
   "id": "95b3fe6e",
   "metadata": {},
   "outputs": [
    {
     "data": {
      "text/latex": [
       "$\\displaystyle \\sqrt{\\pi}$"
      ],
      "text/plain": [
       "sqrt(pi)"
      ]
     },
     "execution_count": 21,
     "metadata": {},
     "output_type": "execute_result"
    }
   ],
   "source": [
    "integrate(exp(-x ** 2), (x, -oo, oo))"
   ]
  },
  {
   "cell_type": "code",
   "execution_count": 22,
   "id": "d8974f86",
   "metadata": {},
   "outputs": [
    {
     "data": {
      "text/latex": [
       "$\\displaystyle \\int \\left(x^{\\cosh{\\left(x \\right)}} + \\sinh{\\left(x \\right)}\\right)\\, dx$"
      ],
      "text/plain": [
       "Integral(x**cosh(x) + sinh(x), x)"
      ]
     },
     "execution_count": 22,
     "metadata": {},
     "output_type": "execute_result"
    }
   ],
   "source": [
    "integrate(sinh(x) + x**cosh(x), x)"
   ]
  },
  {
   "cell_type": "code",
   "execution_count": 23,
   "id": "71184283",
   "metadata": {},
   "outputs": [
    {
     "data": {
      "text/latex": [
       "$\\displaystyle x \\log{\\left(x \\right)} - x$"
      ],
      "text/plain": [
       "x*log(x) - x"
      ]
     },
     "execution_count": 23,
     "metadata": {},
     "output_type": "execute_result"
    }
   ],
   "source": [
    "integrate(log(x), (x))"
   ]
  },
  {
   "cell_type": "code",
   "execution_count": 24,
   "id": "ee21a6c6",
   "metadata": {},
   "outputs": [
    {
     "data": {
      "text/latex": [
       "$\\displaystyle \\frac{x^{2} y^{2}}{4} + \\frac{x^{2} y}{4} - \\frac{x y^{3}}{3}$"
      ],
      "text/plain": [
       "x**2*y**2/4 + x**2*y/4 - x*y**3/3"
      ]
     },
     "execution_count": 24,
     "metadata": {},
     "output_type": "execute_result"
    }
   ],
   "source": [
    "Double_integrate = x / 2 - y ** 2 + x * y\n",
    "a = integrate(Double_integrate, x, y)\n",
    "a"
   ]
  },
  {
   "cell_type": "code",
   "execution_count": 25,
   "id": "e12f1390",
   "metadata": {},
   "outputs": [
    {
     "data": {
      "text/latex": [
       "$\\displaystyle \\pi^{3} \\left(- \\frac{5}{3} - \\frac{\\pi}{3}\\right) + \\pi^{2} \\left(- \\frac{25}{4} + \\frac{\\pi^{2}}{4}\\right) + \\pi^{\\frac{3}{2}} \\left(- \\frac{5}{3} - \\frac{\\pi}{3}\\right) + \\sqrt{\\pi} \\left(- \\frac{25}{4} + \\frac{\\pi^{2}}{4}\\right)$"
      ],
      "text/plain": [
       "pi**3*(-5/3 - pi/3) + pi**2*(-25/4 + pi**2/4) + pi**(3/2)*(-5/3 - pi/3) + sqrt(pi)*(-25/4 + pi**2/4)"
      ]
     },
     "execution_count": 25,
     "metadata": {},
     "output_type": "execute_result"
    }
   ],
   "source": [
    "Double_integrate = x / 2 - y ** 2 + x * y\n",
    "b = integrate(Double_integrate, (x, -5, pi), (y, -sqrt(pi), pi))\n",
    "b"
   ]
  },
  {
   "cell_type": "markdown",
   "id": "4efc6214",
   "metadata": {},
   "source": [
    "**solveset()**"
   ]
  },
  {
   "cell_type": "code",
   "execution_count": 26,
   "id": "3a677484",
   "metadata": {},
   "outputs": [
    {
     "data": {
      "text/latex": [
       "$\\displaystyle \\left\\{-1, 1\\right\\}$"
      ],
      "text/plain": [
       "{-1, 1}"
      ]
     },
     "execution_count": 26,
     "metadata": {},
     "output_type": "execute_result"
    }
   ],
   "source": [
    "solveset(x ** 2 - 1, x)"
   ]
  },
  {
   "cell_type": "code",
   "execution_count": 27,
   "id": "a214314c",
   "metadata": {},
   "outputs": [
    {
     "data": {
      "text/latex": [
       "$\\displaystyle \\left\\{\\frac{\\sqrt{65}}{26} - \\frac{\\sqrt{13} i \\sqrt{-5 + 4 \\sqrt{13} \\pi}}{26}, \\frac{\\sqrt{65}}{26} + \\frac{\\sqrt{13} i \\sqrt{-5 + 4 \\sqrt{13} \\pi}}{26}\\right\\}$"
      ],
      "text/plain": [
       "{sqrt(65)/26 - sqrt(13)*I*sqrt(-5 + 4*sqrt(13)*pi)/26, sqrt(65)/26 + sqrt(13)*I*sqrt(-5 + 4*sqrt(13)*pi)/26}"
      ]
     },
     "execution_count": 27,
     "metadata": {},
     "output_type": "execute_result"
    }
   ],
   "source": [
    "solveset(sqrt(13) * x ** 2 - sqrt(5) * x + pi, x)"
   ]
  },
  {
   "cell_type": "code",
   "execution_count": 28,
   "id": "3a480192",
   "metadata": {},
   "outputs": [],
   "source": [
    "f, g = symbols(\"f g\", cls = Function)"
   ]
  },
  {
   "cell_type": "code",
   "execution_count": 29,
   "id": "c0b3a208",
   "metadata": {},
   "outputs": [
    {
     "data": {
      "text/latex": [
       "$\\displaystyle f{\\left(x \\right)} + g{\\left(f{\\left(x \\right)} \\right)} + \\frac{d^{2}}{d x^{2}} f{\\left(x \\right)}$"
      ],
      "text/plain": [
       "f(x) + g(f(x)) + Derivative(f(x), (x, 2))"
      ]
     },
     "execution_count": 29,
     "metadata": {},
     "output_type": "execute_result"
    }
   ],
   "source": [
    "f(x).diff(x , x) + f(x) + g(f(x))"
   ]
  },
  {
   "cell_type": "code",
   "execution_count": 30,
   "id": "4d09e341",
   "metadata": {},
   "outputs": [
    {
     "data": {
      "text/latex": [
       "$\\displaystyle f{\\left(x \\right)} = C_{1} \\sin{\\left(x \\right)} + C_{2} \\cos{\\left(x \\right)}$"
      ],
      "text/plain": [
       "Eq(f(x), C1*sin(x) + C2*cos(x))"
      ]
     },
     "execution_count": 30,
     "metadata": {},
     "output_type": "execute_result"
    }
   ],
   "source": [
    "dsolve(f(x).diff(x , x) + f(x))"
   ]
  },
  {
   "cell_type": "markdown",
   "id": "ee20a0f8",
   "metadata": {},
   "source": [
    "# scipy.stats"
   ]
  },
  {
   "cell_type": "markdown",
   "id": "fdc04263",
   "metadata": {},
   "source": [
    "**The probability mass function for bernoulli is:**"
   ]
  },
  {
   "attachments": {
    "image.png": {
     "image/png": "[encoded data removed]"
    }
   },
   "cell_type": "markdown",
   "id": "f1ba1dac",
   "metadata": {},
   "source": [
    "![image.png](attachment:image.png)"
   ]
  },
  {
   "cell_type": "code",
   "execution_count": 32,
   "id": "c87bbdca",
   "metadata": {},
   "outputs": [
    {
     "name": "stderr",
     "output_type": "stream",
     "text": [
      "C:\\Users\\Haadini\\anaconda3\\envs\\python_class\\lib\\site-packages\\seaborn\\distributions.py:2619: FutureWarning: `distplot` is a deprecated function and will be removed in a future version. Please adapt your code to use either `displot` (a figure-level function with similar flexibility) or `histplot` (an axes-level function for histograms).\n",
      "  warnings.warn(msg, FutureWarning)\n"
     ]
    },
    {
     "data": {
      "text/plain": [
       "[Text(0.5, 0, 'Bernoulli'), Text(0, 0.5, 'Frequency')]"
      ]
     },
     "execution_count": 32,
     "metadata": {},
     "output_type": "execute_result"
    },
    {
     "data": {
      "image/png": "[encoded data removed]",
      "text/plain": [
       "<Figure size 432x288 with 1 Axes>"
      ]
     },
     "metadata": {
      "needs_background": "light"
     },
     "output_type": "display_data"
    }
   ],
   "source": [
    "data_bernoulli = bernoulli.rvs(size = 1000 , p = 0.6)\n",
    "ax = sns.distplot(data_bernoulli, kde = True, color = \"crimson\", hist_kws = {\"linewidth\":25, \"alpha\": 1})\n",
    "ax.set(xlabel = \"Bernoulli\", ylabel = \"Frequency\")"
   ]
  },
  {
   "cell_type": "code",
   "execution_count": 34,
   "id": "341d6380",
   "metadata": {},
   "outputs": [
    {
     "data": {
      "text/plain": [
       "(0.4, 0.6, 0.24, 1.0)"
      ]
     },
     "execution_count": 34,
     "metadata": {},
     "output_type": "execute_result"
    }
   ],
   "source": [
    "bernoulli_cdf = bernoulli.cdf(k = 0, p = 0.6)\n",
    "bernoulli_exp = bernoulli.expect(args=(0.6,))\n",
    "bernoulli_var = bernoulli.var(p=0.6)\n",
    "bernoulli_median = bernoulli.median( p = 0.6)\n",
    "\n",
    "bernoulli_cdf, bernoulli_exp, bernoulli_var, bernoulli_median"
   ]
  },
  {
   "cell_type": "markdown",
   "id": "29757e23",
   "metadata": {},
   "source": [
    "**The probability mass function for binomial is:**"
   ]
  },
  {
   "attachments": {
    "image.png": {
     "image/png": "[encoded data removed]"
    }
   },
   "cell_type": "markdown",
   "id": "df0cfec6",
   "metadata": {},
   "source": [
    "![image.png](attachment:image.png)"
   ]
  },
  {
   "cell_type": "code",
   "execution_count": 39,
   "id": "84cd0efb",
   "metadata": {},
   "outputs": [
    {
     "name": "stderr",
     "output_type": "stream",
     "text": [
      "C:\\Users\\Haadini\\anaconda3\\envs\\python_class\\lib\\site-packages\\seaborn\\distributions.py:2619: FutureWarning: `distplot` is a deprecated function and will be removed in a future version. Please adapt your code to use either `displot` (a figure-level function with similar flexibility) or `histplot` (an axes-level function for histograms).\n",
      "  warnings.warn(msg, FutureWarning)\n"
     ]
    },
    {
     "data": {
      "text/plain": [
       "[Text(0.5, 0, 'Binomial'), Text(0, 0.5, 'Frequency')]"
      ]
     },
     "execution_count": 39,
     "metadata": {},
     "output_type": "execute_result"
    },
    {
     "data": {
      "image/png": "[encoded data removed]",
      "text/plain": [
       "<Figure size 432x288 with 1 Axes>"
      ]
     },
     "metadata": {
      "needs_background": "light"
     },
     "output_type": "display_data"
    }
   ],
   "source": [
    "data_binomial = binom.rvs(size = 1000, p = 0.6, n = 200)\n",
    "ax = sns.distplot(data_binomial, kde = True, color = \"crimson\", hist_kws = {\"linewidth\":25, \"alpha\": 1})\n",
    "ax.set(xlabel = \"Binomial\", ylabel = \"Frequency\")"
   ]
  },
  {
   "cell_type": "code",
   "execution_count": 44,
   "id": "9bb30566",
   "metadata": {},
   "outputs": [
    {
     "data": {
      "text/plain": [
       "(8.928483663092196e-09, 30.0, 12.0, 30.0)"
      ]
     },
     "execution_count": 44,
     "metadata": {},
     "output_type": "execute_result"
    }
   ],
   "source": [
    "binomial_cdf = binom.cdf(k = 10, n = 50, p = 0.6)\n",
    "binomial_exp = binom.expect(args=(50 ,0.6))\n",
    "binomial_var = binom.var(n=50, p=0.6)\n",
    "binomial_median = binom.median(n=50, p = 0.6)\n",
    "\n",
    "binomial_cdf, binomial_exp, binomial_var, binomial_median"
   ]
  },
  {
   "cell_type": "markdown",
   "id": "f58c2988",
   "metadata": {},
   "source": [
    "**The probability mass function for Geometric is:**"
   ]
  },
  {
   "attachments": {
    "image-2.png": {
     "image/png": "[encoded data removed]"
    }
   },
   "cell_type": "markdown",
   "id": "a6162ba2",
   "metadata": {},
   "source": [
    "![image-2.png](attachment:image-2.png)"
   ]
  },
  {
   "cell_type": "code",
   "execution_count": 45,
   "id": "12a0316f",
   "metadata": {},
   "outputs": [
    {
     "name": "stderr",
     "output_type": "stream",
     "text": [
      "C:\\Users\\Haadini\\anaconda3\\envs\\python_class\\lib\\site-packages\\seaborn\\distributions.py:2619: FutureWarning: `distplot` is a deprecated function and will be removed in a future version. Please adapt your code to use either `displot` (a figure-level function with similar flexibility) or `histplot` (an axes-level function for histograms).\n",
      "  warnings.warn(msg, FutureWarning)\n"
     ]
    },
    {
     "data": {
      "text/plain": [
       "[Text(0.5, 0, 'Bernoulli'), Text(0, 0.5, 'Frequency')]"
      ]
     },
     "execution_count": 45,
     "metadata": {},
     "output_type": "execute_result"
    },
    {
     "data": {
      "image/png": "[encoded data removed]",
      "text/plain": [
       "<Figure size 432x288 with 1 Axes>"
      ]
     },
     "metadata": {
      "needs_background": "light"
     },
     "output_type": "display_data"
    }
   ],
   "source": [
    "data_Geometric = geom.rvs(size = 1000 , p = 0.6)\n",
    "ax = sns.distplot(data_Geometric, kde = True, color = \"crimson\", hist_kws = {\"linewidth\":25, \"alpha\": 1})\n",
    "ax.set(xlabel = \"Bernoulli\", ylabel = \"Frequency\")"
   ]
  },
  {
   "cell_type": "code",
   "execution_count": 47,
   "id": "940c77bc",
   "metadata": {},
   "outputs": [
    {
     "data": {
      "text/plain": [
       "(0.9998951424, 1.6666666666666667, 1.1111111111111114, 1.0)"
      ]
     },
     "execution_count": 47,
     "metadata": {},
     "output_type": "execute_result"
    }
   ],
   "source": [
    "Geometric_cdf = geom.cdf(k = 10, p = 0.6)\n",
    "Geometric_exp = geom.expect(args=(0.6,))\n",
    "Geometric_var = geom.var(p=0.6)\n",
    "Geometric_median = geom.median(p = 0.6)\n",
    "\n",
    "Geometric_cdf, Geometric_exp, Geometric_var, Geometric_median"
   ]
  },
  {
   "cell_type": "markdown",
   "id": "ab8e5a67",
   "metadata": {},
   "source": [
    "**The probability mass function for poisson is:**"
   ]
  },
  {
   "attachments": {
    "image.png": {
     "image/png": "[encoded data removed]"
    }
   },
   "cell_type": "markdown",
   "id": "b9fc8c8b",
   "metadata": {},
   "source": [
    "![image.png](attachment:image.png)"
   ]
  },
  {
   "cell_type": "code",
   "execution_count": 48,
   "id": "376a7f84",
   "metadata": {},
   "outputs": [
    {
     "name": "stderr",
     "output_type": "stream",
     "text": [
      "C:\\Users\\Haadini\\anaconda3\\envs\\python_class\\lib\\site-packages\\seaborn\\distributions.py:2619: FutureWarning: `distplot` is a deprecated function and will be removed in a future version. Please adapt your code to use either `displot` (a figure-level function with similar flexibility) or `histplot` (an axes-level function for histograms).\n",
      "  warnings.warn(msg, FutureWarning)\n"
     ]
    },
    {
     "data": {
      "text/plain": [
       "[Text(0.5, 0, 'Binomial'), Text(0, 0.5, 'Frequency')]"
      ]
     },
     "execution_count": 48,
     "metadata": {},
     "output_type": "execute_result"
    },
    {
     "data": {
      "image/png": "[encoded data removed]",
      "text/plain": [
       "<Figure size 432x288 with 1 Axes>"
      ]
     },
     "metadata": {
      "needs_background": "light"
     },
     "output_type": "display_data"
    }
   ],
   "source": [
    "data_poisson = poisson.rvs(size = 1000, mu = 5)\n",
    "ax = sns.distplot(data_poisson, kde = True, color = \"crimson\", hist_kws = {\"linewidth\":25, \"alpha\": 1})\n",
    "ax.set(xlabel = \"Binomial\", ylabel = \"Frequency\")"
   ]
  },
  {
   "cell_type": "code",
   "execution_count": 53,
   "id": "b81efe08",
   "metadata": {},
   "outputs": [
    {
     "data": {
      "text/plain": [
       "(0.9863047314016171, 4.9999999999999964, 5.0, 5.0)"
      ]
     },
     "execution_count": 53,
     "metadata": {},
     "output_type": "execute_result"
    }
   ],
   "source": [
    "Poisson_cdf = poisson.cdf(k = 10, mu = 5)\n",
    "Poisson_exp = poisson.expect(args=(5,))\n",
    "Poisson_var = poisson.var(mu = 5)\n",
    "Poisson_median = poisson.median(mu = 5)\n",
    "\n",
    "Poisson_cdf, Poisson_exp, Poisson_var, Poisson_median"
   ]
  },
  {
   "cell_type": "markdown",
   "id": "bf59d7ef",
   "metadata": {},
   "source": [
    "**The probability mass function for negative binomial is:**"
   ]
  },
  {
   "attachments": {
    "image.png": {
     "image/png": "[encoded data removed]"
    }
   },
   "cell_type": "markdown",
   "id": "a07a6f5a",
   "metadata": {},
   "source": [
    "![image.png](attachment:image.png)"
   ]
  },
  {
   "cell_type": "code",
   "execution_count": 59,
   "id": "11b9ab25",
   "metadata": {},
   "outputs": [
    {
     "name": "stderr",
     "output_type": "stream",
     "text": [
      "C:\\Users\\Haadini\\anaconda3\\envs\\python_class\\lib\\site-packages\\seaborn\\distributions.py:2619: FutureWarning: `distplot` is a deprecated function and will be removed in a future version. Please adapt your code to use either `displot` (a figure-level function with similar flexibility) or `histplot` (an axes-level function for histograms).\n",
      "  warnings.warn(msg, FutureWarning)\n"
     ]
    },
    {
     "data": {
      "text/plain": [
       "[Text(0.5, 0, 'Binomial'), Text(0, 0.5, 'Frequency')]"
      ]
     },
     "execution_count": 59,
     "metadata": {},
     "output_type": "execute_result"
    },
    {
     "data": {
      "image/png": "[encoded data removed]",
      "text/plain": [
       "<Figure size 432x288 with 1 Axes>"
      ]
     },
     "metadata": {
      "needs_background": "light"
     },
     "output_type": "display_data"
    }
   ],
   "source": [
    "data_NegativeBinomial = nbinom.rvs(size = 1000, p = 0.6, n = 30)\n",
    "ax = sns.distplot(data_NegativeBinomial, kde = True, color = \"crimson\", hist_kws = {\"linewidth\":25, \"alpha\": 1})\n",
    "ax.set(xlabel = \"Binomial\", ylabel = \"Frequency\")"
   ]
  },
  {
   "cell_type": "code",
   "execution_count": 54,
   "id": "27ec0d90",
   "metadata": {},
   "outputs": [
    {
     "data": {
      "text/plain": [
       "(8.893299407529209e-05, 33.33333333333329, 55.55555555555556, 33.0)"
      ]
     },
     "execution_count": 54,
     "metadata": {},
     "output_type": "execute_result"
    }
   ],
   "source": [
    "NegativeBinomial_cdf = nbinom.cdf(k = 10, n = 50, p = 0.6)\n",
    "NegativeBinomial_exp = nbinom.expect(args=(50 ,0.6))\n",
    "NegativeBinomial_var = nbinom.var(n=50, p=0.6)\n",
    "NegativeBinomial_median = nbinom.median(n=50, p = 0.6)\n",
    "\n",
    "NegativeBinomial_cdf, NegativeBinomial_exp, NegativeBinomial_var, NegativeBinomial_median"
   ]
  },
  {
   "cell_type": "code",
   "execution_count": null,
   "id": "968be088",
   "metadata": {},
   "outputs": [],
   "source": []
  }
 ],
 "metadata": {
  "kernelspec": {
   "display_name": "Python 3 (ipykernel)",
   "language": "python",
   "name": "python3"
  },
  "language_info": {
   "codemirror_mode": {
    "name": "ipython",
    "version": 3
   },
   "file_extension": ".py",
   "mimetype": "text/x-python",
   "name": "python",
   "nbconvert_exporter": "python",
   "pygments_lexer": "ipython3",
   "version": "3.9.7"
  }
 },
 "nbformat": 4,
 "nbformat_minor": 5
}
