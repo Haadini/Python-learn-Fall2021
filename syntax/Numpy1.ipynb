{
 "cells": [
  {
   "cell_type": "code",
   "execution_count": 1,
   "id": "5671ac45",
   "metadata": {},
   "outputs": [],
   "source": [
    "import numpy as np"
   ]
  },
  {
   "cell_type": "code",
   "execution_count": 2,
   "id": "dd170079",
   "metadata": {},
   "outputs": [
    {
     "data": {
      "text/plain": [
       "array([35, 16, 27, 53, 66, 14, 28, 42, 91, 65, 90, 90, 67,  6, 52, 55, 18,\n",
       "       33, 68, 62, 47,  3, 39, 62, 24, 22, 10, 98, 63, 95, 86, 16, 19, 25,\n",
       "        4, 36, 61, 20, 68, 83, 74, 22, 96, 27, 59, 90, 22, 86, 75, 87, 40,\n",
       "       65, 90, 39, 18, 20,  2, 41, 33,  1, 33, 49, 33,  8, 19, 12, 78, 70,\n",
       "       56, 48, 11, 69, 75,  9, 97, 97, 35, 40, 45, 74, 49, 44, 21,  6,  5,\n",
       "       32,  2, 24, 50, 89, 95, 53, 92, 63, 89, 70, 82, 26, 41, 42])"
      ]
     },
     "execution_count": 2,
     "metadata": {},
     "output_type": "execute_result"
    }
   ],
   "source": [
    "Hadi=np.random.randint(1, 99, size=1000000)\n",
    "Hadi[:100]"
   ]
  },
  {
   "cell_type": "code",
   "execution_count": 3,
   "id": "1ad00993",
   "metadata": {},
   "outputs": [
    {
     "data": {
      "text/plain": [
       "datetime.timedelta(microseconds=114927)"
      ]
     },
     "execution_count": 3,
     "metadata": {},
     "output_type": "execute_result"
    }
   ],
   "source": [
    "import datetime\n",
    "input_python=datetime.datetime.now()\n",
    "Majmo=sum(Hadi)\n",
    "output_python=datetime.datetime.now()\n",
    "time1=output_python - input_python\n",
    "time1"
   ]
  },
  {
   "cell_type": "code",
   "execution_count": 4,
   "id": "e3e3acb3",
   "metadata": {},
   "outputs": [
    {
     "data": {
      "text/plain": [
       "datetime.timedelta(microseconds=1001)"
      ]
     },
     "execution_count": 4,
     "metadata": {},
     "output_type": "execute_result"
    }
   ],
   "source": [
    "input_numpy=datetime.datetime.now()\n",
    "majmo1=np.sum(Hadi)\n",
    "output_numpy=datetime.datetime.now()\n",
    "time2=output_numpy - input_numpy\n",
    "time2"
   ]
  },
  {
   "cell_type": "code",
   "execution_count": 6,
   "id": "2bc5de8b",
   "metadata": {},
   "outputs": [
    {
     "data": {
      "text/plain": [
       "114.81218781218782"
      ]
     },
     "execution_count": 6,
     "metadata": {},
     "output_type": "execute_result"
    }
   ],
   "source": [
    "rate=114927/1001\n",
    "rate"
   ]
  },
  {
   "cell_type": "code",
   "execution_count": null,
   "id": "3ea4ffff",
   "metadata": {},
   "outputs": [],
   "source": []
  }
 ],
 "metadata": {
  "kernelspec": {
   "display_name": "Python 3 (ipykernel)",
   "language": "python",
   "name": "python3"
  },
  "language_info": {
   "codemirror_mode": {
    "name": "ipython",
    "version": 3
   },
   "file_extension": ".py",
   "mimetype": "text/x-python",
   "name": "python",
   "nbconvert_exporter": "python",
   "pygments_lexer": "ipython3",
   "version": "3.9.7"
  }
 },
 "nbformat": 4,
 "nbformat_minor": 5
}
